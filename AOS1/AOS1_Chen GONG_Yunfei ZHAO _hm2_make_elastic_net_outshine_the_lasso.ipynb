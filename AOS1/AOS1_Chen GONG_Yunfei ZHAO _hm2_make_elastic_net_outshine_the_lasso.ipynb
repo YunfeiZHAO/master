{
 "cells": [
  {
   "cell_type": "markdown",
   "metadata": {
    "id": "E8Uyz_qNkwUW"
   },
   "source": [
    "# Answer to the first homework feedback\n",
    "\"image band reduction by PCA\"\n",
    "\n",
    "feedback: \"You could have suggested a few perspectives. How can we make the variance of the 3 bands approximately the same? Is the RGB color ...\"\n",
    "\n",
    "The variance of a band correspond to the information we have of this band, because when we use PCA, the most important dimension correspond to the dimension where the projection of X on this dimension has the most variance.\n",
    "\n",
    "If we want to make them has the same variance, we can do the standarization on each band and then rescale it to [0,255]\n",
    "\n",
    "But we don't know why we need to make these three bands have approximately the same variance.\n",
    "\n"
   ]
  },
  {
   "cell_type": "markdown",
   "metadata": {
    "id": "W8ekZG9cSHy4"
   },
   "source": [
    "#AOS1：make elastic net outshine the lasso \n",
    "\n",
    "AOS1 homework2\n",
    "\n",
    "author: \n",
    "Chen GONG \n",
    "Yunfei ZHAO\n",
    "\n",
    "date: 09/10/2020\n",
    "\n",
    "## Introduction\n",
    "\n",
    "The elastic net regression was invented to compensate for the lack of robustness of the lasso regression. The elastic net especially outshines the lasso when some variables are highly correlated and on the same scale.\n",
    "\n",
    "In this homework, we hope to find a data set that satisfies: the results of elastic net regression analysis are more robust than that of Lasso regression experimentally.\n",
    "\n",
    "We will design a regression dataset in which we want to select variables and where the elastic net gives better results in terms of stability of the set of selected variables.\n",
    "\n",
    "We will evaluate lasso and elastic net model by these standard:\n",
    "* How do the values of coefficients change by hyper-parameters. And we will tuning the hyper parameters in this step.\n",
    "* Does the model has a huge variance on selecting varaibles. We will run these two models several times and we analyse it's coefficients values.\n",
    "* Compare also the performance of these two models\n",
    "\n",
    "\n",
    "The python library we used is below:"
   ]
  },
  {
   "cell_type": "code",
   "execution_count": null,
   "metadata": {
    "id": "Zge4BkTjR9yl"
   },
   "outputs": [],
   "source": [
    "import numpy as np\n",
    "import pandas as pd \n",
    "import matplotlib.pyplot as plt\n",
    "import seaborn as sns\n",
    "from sklearn.model_selection import train_test_split \n",
    "from sklearn.linear_model import Lasso, ElasticNet, LassoCV, ElasticNetCV\n",
    "from sklearn.linear_model import lasso_path, enet_path\n",
    "from itertools import cycle\n",
    "from sklearn.preprocessing import StandardScaler"
   ]
  },
  {
   "cell_type": "markdown",
   "metadata": {
    "id": "QJmsmS-YVbu5"
   },
   "source": [
    "## Generate our dataset\n",
    "\n",
    "* To simplify our presentation, we choose to have only 5 variables.\n",
    "* We use multivriate normal distribution to create dataset with correlated variables."
   ]
  },
  {
   "cell_type": "code",
   "execution_count": null,
   "metadata": {
    "id": "Yqd9puHqfXua"
   },
   "outputs": [],
   "source": [
    "class multivariate_normal_Event:\n",
    "    def __init__(self, mean, cov):\n",
    "        self.mean = np.array(mean)\n",
    "        self.cov = np.array(cov)\n",
    "        self.coefficients = 10 * np.random.randn(len(mean))\n",
    "\n",
    "    def sample(self, n_samples=200):\n",
    "        self.X = np.random.multivariate_normal(self.mean, self.cov, n_samples)\n",
    "        self.y = np.dot(self.X, self.coefficients)\n",
    "        return self.X, self.y\n",
    "\n",
    "    def heat_map_plot(self):\n",
    "        data = pd.DataFrame(self.X)\n",
    "        corr = data.corr()\n",
    "        sns.heatmap(corr)\n",
    "\n",
    "    def sub_dim_plot(self, col1, col2):\n",
    "        plt.plot(self.X[:,col1], self.X[:,col2], 'b.')"
   ]
  },
  {
   "cell_type": "markdown",
   "metadata": {
    "id": "fT2nzI3ukCV2"
   },
   "source": [
    "For a two dimension multi-normal distribution, we have:\n",
    "$$\n",
    "{\\displaystyle {\\boldsymbol {\\mu }}={\\begin{pmatrix}\\mu _{X}\\\\\\mu _{Y}\\end{pmatrix}},\\quad {\\boldsymbol {\\Sigma }}={\\begin{pmatrix}\\sigma _{X}^{2}&\\rho \\sigma _{X}\\sigma _{Y}\\\\\\rho \\sigma _{X}\\sigma _{Y}&\\sigma _{Y}^{2}\\end{pmatrix}}.}\n",
    "$$\n",
    "\n",
    "we supose that \n",
    "* the fisrt two varibles are not correlated with any other varibles\n",
    "* the three others are strongly correlated\n",
    "** we have the V3 and V4 with a negative correlation of 0.9\n",
    "** V3 and V5 with a positive correlation of 1\n",
    "** V4 and V5 with a positive correlation of 0.8"
   ]
  },
  {
   "cell_type": "code",
   "execution_count": null,
   "metadata": {
    "colab": {
     "base_uri": "https://localhost:8080/",
     "height": 134
    },
    "id": "XEGaZjHMhMXi",
    "outputId": "b4563eae-3cb4-419b-cade-3fc1c1eb8e5b"
   },
   "outputs": [
    {
     "name": "stdout",
     "output_type": "stream",
     "text": [
      "mean: [4, 6, 2, 9, 0]\n",
      "covariance:\n"
     ]
    },
    {
     "data": {
      "text/plain": [
       "array([[ 1. ,  0. ,  0. ,  0. ,  0. ],\n",
       "       [ 0. ,  4. ,  0. ,  0. ,  0. ],\n",
       "       [ 0. ,  0. ,  9. , 10.8, 15. ],\n",
       "       [ 0. ,  0. , 10.8, 16. , 16. ],\n",
       "       [ 0. ,  0. , 15. , 16. , 25. ]])"
      ]
     },
     "execution_count": 5,
     "metadata": {
      "tags": []
     },
     "output_type": "execute_result"
    }
   ],
   "source": [
    "var = [1, 4, 9, 16, 25]\n",
    "mean = [4, 6, 2, 9, 0]\n",
    "\n",
    "cor = [[1, 0, 0, 0, 0],\n",
    "       [0, 1, 0, 0, 0],\n",
    "       [0, 0, 1, 0.9, 1],\n",
    "       [0, 0, 0.9, 1, 0.8],\n",
    "       [0, 0, 1, 0.8, 1]]\n",
    "covariance = np.zeros((5, 5))\n",
    "for i in range(5):\n",
    "    for j in range(5):\n",
    "        if i == j:\n",
    "            covariance[i][j] = var[i]\n",
    "        else:\n",
    "            covariance[i][j] = cor[i][j] * np.sqrt(var[i]) * np.sqrt(var[j])\n",
    "\n",
    "print(f\"mean: {mean}\")\n",
    "print(\"covariance:\")\n",
    "covariance"
   ]
  },
  {
   "cell_type": "code",
   "execution_count": null,
   "metadata": {
    "id": "RYK3gp1xhOzA"
   },
   "outputs": [],
   "source": [
    "evt = multivariate_normal_Event(mean, covariance)"
   ]
  },
  {
   "cell_type": "markdown",
   "metadata": {
    "id": "T13NNRCh8Q_I"
   },
   "source": [
    "## Show the correlation of our dataset"
   ]
  },
  {
   "cell_type": "code",
   "execution_count": null,
   "metadata": {
    "colab": {
     "base_uri": "https://localhost:8080/",
     "height": 50
    },
    "id": "xgufjJkdoJuB",
    "outputId": "e83f2978-4d2d-478a-b73d-1cbccb93f337"
   },
   "outputs": [
    {
     "name": "stderr",
     "output_type": "stream",
     "text": [
      "/usr/local/lib/python3.6/dist-packages/ipykernel_launcher.py:8: RuntimeWarning: covariance is not positive-semidefinite.\n",
      "  \n"
     ]
    }
   ],
   "source": [
    "X, y = evt.sample(n_samples=200)"
   ]
  },
  {
   "cell_type": "code",
   "execution_count": null,
   "metadata": {
    "colab": {
     "base_uri": "https://localhost:8080/",
     "height": 269
    },
    "id": "rfi6zXMwpeVM",
    "outputId": "31e56d5b-0379-4613-a44b-640bafdfceda"
   },
   "outputs": [
    {
     "data": {
      "image/png": "[encoded data removed]",
      "text/plain": [
       "<Figure size 432x288 with 2 Axes>"
      ]
     },
     "metadata": {
      "needs_background": "light",
      "tags": []
     },
     "output_type": "display_data"
    }
   ],
   "source": [
    "evt.heat_map_plot()"
   ]
  },
  {
   "cell_type": "code",
   "execution_count": null,
   "metadata": {
    "colab": {
     "base_uri": "https://localhost:8080/",
     "height": 265
    },
    "id": "P6aa8mJ05-yR",
    "outputId": "d24b4375-0570-46e7-852c-b93cf5726200"
   },
   "outputs": [
    {
     "data": {
      "image/png": "[encoded data removed]",
      "text/plain": [
       "<Figure size 432x288 with 1 Axes>"
      ]
     },
     "metadata": {
      "needs_background": "light",
      "tags": []
     },
     "output_type": "display_data"
    }
   ],
   "source": [
    "evt.sub_dim_plot(0, 1)"
   ]
  },
  {
   "cell_type": "code",
   "execution_count": null,
   "metadata": {
    "colab": {
     "base_uri": "https://localhost:8080/",
     "height": 265
    },
    "id": "aK99la6Z7pyc",
    "outputId": "89a0fecb-a55b-4152-fa58-110aca35131d"
   },
   "outputs": [
    {
     "data": {
      "image/png": "[encoded data removed]",
      "text/plain": [
       "<Figure size 432x288 with 1 Axes>"
      ]
     },
     "metadata": {
      "needs_background": "light",
      "tags": []
     },
     "output_type": "display_data"
    }
   ],
   "source": [
    "evt.sub_dim_plot(2, 3)"
   ]
  },
  {
   "cell_type": "markdown",
   "metadata": {
    "id": "QLZ8VZax9qUJ"
   },
   "source": [
    "## How do the values of coefficients evoluate by hyper-parameters\n",
    "Object of lasso\n",
    "$$\n",
    "min \\frac{1}{n_{samples}} \\times ||y - Xw||^2_2\n",
    "$$\n",
    "Object of elastic net\n",
    "$$\n",
    "min \\frac{1}{n_{samples}} \\times ||y - Xw||^2_2\n",
    "+ \\lambda (\\alpha ||w||_1\n",
    "+ (1 - \\alpha)||w||^2_2)\n",
    "$$\n",
    "\n",
    "We arbitrarly set $\\alpha$ to 0.5, and for $\\lambda$ we use cross validation firstly and than we use the sub optimal parameter for the rest of test."
   ]
  },
  {
   "cell_type": "code",
   "execution_count": null,
   "metadata": {
    "colab": {
     "base_uri": "https://localhost:8080/",
     "height": 346
    },
    "id": "GYLtkEyh8HeZ",
    "outputId": "3c1cb357-a5b6-4a6e-de42-e8d12da54149"
   },
   "outputs": [
    {
     "name": "stdout",
     "output_type": "stream",
     "text": [
      "Computing regularization path using the lasso...\n",
      "Computing regularization path using the elastic net...\n"
     ]
    },
    {
     "data": {
      "text/plain": [
       "<matplotlib.legend.Legend at 0x7fe8b3267e10>"
      ]
     },
     "execution_count": 15,
     "metadata": {
      "tags": []
     },
     "output_type": "execute_result"
    },
    {
     "data": {
      "image/png": "[encoded data removed]",
      "text/plain": [
       "<Figure size 432x288 with 1 Axes>"
      ]
     },
     "metadata": {
      "needs_background": "light",
      "tags": []
     },
     "output_type": "display_data"
    }
   ],
   "source": [
    "eps = 5e-3  # the smaller it is the longer is the path\n",
    "\n",
    "print(\"Computing regularization path using the lasso...\")\n",
    "alphas_lasso, coefs_lasso, _ = lasso_path(X, y, eps=eps, fit_intercept=False)\n",
    "\n",
    "print(\"Computing regularization path using the elastic net...\")\n",
    "alphas_enet, coefs_enet, _ = enet_path(X, y, eps=eps, l1_ratio=0.8, fit_intercept=False)\n",
    "\n",
    "\n",
    "# Display results\n",
    "\n",
    "plt.figure()\n",
    "colors = cycle(['b', 'r', 'g', 'c', 'k'])\n",
    "log_alphas_lasso = np.log10(alphas_lasso)\n",
    "log_alphas_enet = np.log10(alphas_enet)\n",
    "labels = ['V1', 'V2', 'V3', 'V4', 'V5']\n",
    "i = 0\n",
    "for coef_l, coef_e, c in zip(coefs_lasso, coefs_enet, colors):\n",
    "    l1 = plt.plot(neg_log_alphas_lasso, coef_l, c=c, label=labels[i])\n",
    "    l2 = plt.plot(neg_log_alphas_enet, coef_e, linestyle='--', c=c)\n",
    "    i = i+1\n",
    "\n",
    "plt.xlabel('Log(alpha)')\n",
    "plt.ylabel('coefficients')\n",
    "plt.title('Lasso and Elastic-Net Paths')\n",
    "plt.axis('tight')\n",
    "\n",
    "legend1 = plt.legend((l1[-1], l2[-1]), ('Lasso', 'Elastic-Net'), loc=4)\n",
    "plt.legend()\n",
    "plt.gca().add_artist(legend1)"
   ]
  },
  {
   "cell_type": "markdown",
   "metadata": {
    "id": "R1LjVU8oDnad"
   },
   "source": [
    "From the figure above, we can see that the coefficient of V3 of Lasso regression is always zero, and the coefficient of V2 and V5 also quickly returns to zero.\n",
    "Compared with the elastic net method, the coefficient of V3 is also always close to zero, but the other coefficients change relatively slowly"
   ]
  },
  {
   "cell_type": "markdown",
   "metadata": {
    "id": "-qf6yV3F_kUW"
   },
   "source": [
    "## Does the model has a huge variance on selecting varaibles\n",
    "\n",
    "We will repeat the training and prediction process 50 times, and we want to know that if the set if selected variables is stable and if the weights correspond to the variables are stable."
   ]
  },
  {
   "cell_type": "code",
   "execution_count": null,
   "metadata": {
    "colab": {
     "base_uri": "https://localhost:8080/",
     "height": 51
    },
    "id": "EQhfAmhBe1xC",
    "outputId": "32c790bb-ff4c-4114-b62f-47f0184fb4fc"
   },
   "outputs": [
    {
     "name": "stderr",
     "output_type": "stream",
     "text": [
      "/usr/local/lib/python3.6/dist-packages/ipykernel_launcher.py:8: RuntimeWarning: covariance is not positive-semidefinite.\n",
      "  \n"
     ]
    }
   ],
   "source": [
    "X, y = evt.sample(n_samples=200)\n",
    "scaler = StandardScaler()\n",
    "scaler.fit(X)\n",
    "X = scaler.transform(X)"
   ]
  },
  {
   "cell_type": "code",
   "execution_count": null,
   "metadata": {
    "colab": {
     "base_uri": "https://localhost:8080/",
     "height": 34
    },
    "id": "7ahOUQ46C3gt",
    "outputId": "5fe21425-24ee-480e-f899-511b1b388a3b"
   },
   "outputs": [
    {
     "data": {
      "text/plain": [
       "array([ 0.70749303, -7.77329182, -2.05161568,  6.72104066,  1.8695989 ])"
      ]
     },
     "execution_count": 163,
     "metadata": {
      "tags": []
     },
     "output_type": "execute_result"
    }
   ],
   "source": [
    "W_0 = evt.coefficients\n",
    "W_0"
   ]
  },
  {
   "cell_type": "code",
   "execution_count": null,
   "metadata": {
    "id": "X0j3UYOdGFTA"
   },
   "outputs": [],
   "source": [
    "ntime = 50\n",
    "nvar = 5\n",
    "# save all estimated W in variable W\n",
    "W_lasso = np.zeros((ntime, nvar))\n",
    "W_elasticNet = np.zeros((ntime, nvar))\n",
    "X0 = scaler.transform(X0)\n",
    "lasso_alpha = LassoCV(cv=5, random_state=0).fit(X, y).alpha_\n",
    "enet_alpha = ElasticNetCV(cv=5, random_state=0).fit(X, y).alpha_\n",
    "lasso = Lasso(alpha=lasso_alpha)\n",
    "elasticNet = ElasticNet(alpha=enet_alpha)\n",
    "for i in range(ntime):\n",
    "    X, y = evt.sample(n_samples=100)\n",
    "    scaler = StandardScaler()\n",
    "    scaler.fit(X)\n",
    "    X = scaler.transform(X)\n",
    "    lasso.fit(X, y)\n",
    "    elasticNet.fit(X, y)\n",
    "    for k in range(nvar):\n",
    "        W_lasso[i, k] = lasso.coef_[k]\n",
    "        W_elasticNet[i, k] = elasticNet.coef_[k]\n"
   ]
  },
  {
   "cell_type": "markdown",
   "metadata": {
    "id": "1_m2C-lpg7sO"
   },
   "source": [
    "### Analyse of result\n",
    "\n",
    "We show the weight of these five varaibles of each test. We can found that elastic net has little variance on the weighs for all varibles besides V1, because we can see V1 in the W_0, it is 0.70749303 for our seed (it may change, we used np.random.randn(len(mean)) to generate all W). So lasso elimite is directly."
   ]
  },
  {
   "cell_type": "code",
   "execution_count": null,
   "metadata": {
    "colab": {
     "base_uri": "https://localhost:8080/",
     "height": 312
    },
    "id": "BNqBswRAGHA7",
    "outputId": "33fdcf92-548b-4c78-8c7b-619c916c2f06"
   },
   "outputs": [
    {
     "data": {
      "text/plain": [
       "<matplotlib.legend.Legend at 0x7f1133009438>"
      ]
     },
     "execution_count": 161,
     "metadata": {
      "tags": []
     },
     "output_type": "execute_result"
    },
    {
     "data": {
      "image/png": "[encoded data removed]",
      "text/plain": [
       "<Figure size 432x288 with 1 Axes>"
      ]
     },
     "metadata": {
      "needs_background": "light",
      "tags": []
     },
     "output_type": "display_data"
    }
   ],
   "source": [
    "plt.figure()\n",
    "colors = ['b', 'r', 'g', 'c', 'k']\n",
    "times = range(ntime)\n",
    "labels = ['V1', 'V2', 'V3', 'V4', 'V5']\n",
    "for i in range(nvar):\n",
    "    l1 = plt.plot(times, W_lasso[:, i], c=colors[i], label=labels[i])\n",
    "    l2 = plt.plot(times, W_elasticNet[:, i], linestyle='--', c=colors[i], label=labels[i])\n",
    "plt.xlabel('test index')\n",
    "plt.ylabel('coefficients')\n",
    "plt.title('Lasso and Elastic-Net')\n",
    "plt.axis('tight')\n",
    "\n",
    "legend1 = plt.legend((l1[-1], l2[-1]), ('Lasso', 'Elastic-Net'), loc=4)\n",
    "plt.legend()\n",
    "plt.gca().add_artist(legend1)"
   ]
  },
  {
   "cell_type": "markdown",
   "metadata": {
    "id": "OJsUkGm1oJJv"
   },
   "source": [
    "##Performance comparison"
   ]
  },
  {
   "cell_type": "code",
   "execution_count": null,
   "metadata": {
    "id": "O1dH2JE9aAmU"
   },
   "outputs": [],
   "source": [
    "from sklearn.linear_model import ElasticNetCV\n",
    "\n",
    "lasso_alpha = LassoCV(cv=5, random_state=0).fit(X, y).alpha_\n",
    "enet_alpha = ElasticNetCV(cv=5, random_state=0).fit(X, y).alpha_\n",
    "ntimes = 50\n",
    "n_samples = 200\n",
    "X0,y0 = evt.sample(1)\n",
    "X0 = scaler.transform(X0)\n",
    "\n",
    "def compute_risk(model, evt, ntimes, n_samples, X0, y0):\n",
    "    pred_model = []\n",
    "    for i in range(ntimes):\n",
    "        X, y = evt.sample(n_samples=n_samples)\n",
    "        scaler = StandardScaler()\n",
    "        scaler.fit(X)\n",
    "        X = scaler.transform(X)\n",
    "        model.fit(X, y)\n",
    "        pred = model.predict(X0)\n",
    "        pred_model.append(pred)\n",
    "    bias = np.mean(np.mean(pred_model) - y0)\n",
    "    var = np.var(pred_model)\n",
    "    risk = np.mean((pred_model - y0)**2)\n",
    "    return (bias, var, risk)\n",
    "\n",
    "risk_lasso = compute_risk(Lasso(alpha=lasso_alpha), evt, ntimes, n_samples, X0, y0)\n",
    "risk_enet = compute_risk(ElasticNet(alpha=enet_alpha), evt, ntimes, n_samples, X0, y0)\n"
   ]
  },
  {
   "cell_type": "code",
   "execution_count": null,
   "metadata": {
    "colab": {
     "base_uri": "https://localhost:8080/",
     "height": 51
    },
    "id": "uq-28TpHdaVF",
    "outputId": "d9a85a72-bec8-4999-8b0b-5f432aecf6fa"
   },
   "outputs": [
    {
     "name": "stdout",
     "output_type": "stream",
     "text": [
      "Lasso:  Bias: 1.086976\tVariance: 5.076758\tRisk: 6.258275\n",
      "Elactic Net:  Bias: 0.382421\tVariance: 4.937176\tRisk: 5.083422\n"
     ]
    }
   ],
   "source": [
    "output = \"Bias: %f\\tVariance: %f\\tRisk: %f\"\n",
    "print(\"Lasso: \", output % risk_lasso)\n",
    "print(\"Elactic Net: \", output % risk_enet)"
   ]
  },
  {
   "cell_type": "markdown",
   "metadata": {
    "id": "nTLIOMSIjmFV"
   },
   "source": [
    "We use cross-validation to find the best hyperparameters of the two methods, and then calculate the bias, variance and risk of the two methods.\n",
    "\n",
    "We repeated the experiment many times. In most cases, the risk of the Lasso method is greater than that of the elastic net method (in rare cases, the Lasso method is smaller than the elastic net method). In all cases, the Variance of the Lasso method is greater than that of the elastic net method.\n",
    "\n",
    "This shows that the elastic net method has better performance."
   ]
  },
  {
   "cell_type": "markdown",
   "metadata": {
    "id": "e5RasBKCkKts"
   },
   "source": [
    "##Conclusion\n",
    "For a highly correlated data set, Lasso's choice of variables will become unstable. At the same time, the performance of Lasso is not as good as the elastic net.\n",
    "We had hoped to see more unstable results. For example, the coefficients of V3, V4, and V5 would wander, occasionally V3 is zero, occasionally V4 is zero, and occasionally V5 is zero. But no such result occurred in our data set."
   ]
  }
 ],
 "metadata": {
  "colab": {
   "collapsed_sections": [],
   "name": "AOS1 hm2 make elastic net outshine the lasso.ipynb",
   "provenance": []
  },
  "kernelspec": {
   "display_name": "Python 3",
   "language": "python",
   "name": "python3"
  },
  "language_info": {
   "codemirror_mode": {
    "name": "ipython",
    "version": 3
   },
   "file_extension": ".py",
   "mimetype": "text/x-python",
   "name": "python",
   "nbconvert_exporter": "python",
   "pygments_lexer": "ipython3",
   "version": "3.7.3"
  }
 },
 "nbformat": 4,
 "nbformat_minor": 1
}
