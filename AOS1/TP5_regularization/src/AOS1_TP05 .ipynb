{
 "cells": [
  {
   "cell_type": "markdown",
   "metadata": {},
   "source": [
    "# Regularization"
   ]
  },
  {
   "cell_type": "code",
   "execution_count": 13,
   "metadata": {},
   "outputs": [],
   "source": [
    "from sklearn.linear_model import Ridge, Lasso, LinearRegression\n",
    "from scipy.linalg import svd\n",
    "import scipy.linalg as linalg\n",
    "import matplotlib.pyplot as plt\n",
    "import numpy as np"
   ]
  },
  {
   "cell_type": "code",
   "execution_count": 9,
   "metadata": {},
   "outputs": [],
   "source": [
    "from utils import Event"
   ]
  },
  {
   "cell_type": "code",
   "execution_count": 10,
   "metadata": {},
   "outputs": [],
   "source": [
    "from numpy.linalg import matrix_rank"
   ]
  },
  {
   "cell_type": "code",
   "execution_count": 3,
   "metadata": {},
   "outputs": [],
   "source": [
    "n_features = 10\n",
    "evt = Event(n_features=n_features, effective_rank=3, noise_level=1)"
   ]
  },
  {
   "cell_type": "code",
   "execution_count": 4,
   "metadata": {},
   "outputs": [],
   "source": [
    "batch1_X, batch1_y = evt.sample(n_samples=100)\n",
    "batch2_X, batch2_y = evt.sample(n_samples=200)"
   ]
  },
  {
   "cell_type": "code",
   "execution_count": 5,
   "metadata": {},
   "outputs": [
    {
     "data": {
      "text/plain": [
       "array([-1.11691642e+01,  9.10317582e+00, -5.39770192e+00,  1.59352145e+01,\n",
       "        1.26414677e+01,  5.25637835e+00, -2.07429492e+01, -1.09958744e+01,\n",
       "       -2.02460886e+00,  1.37467236e-02])"
      ]
     },
     "execution_count": 5,
     "metadata": {},
     "output_type": "execute_result"
    }
   ],
   "source": [
    "evt.coefficients"
   ]
  },
  {
   "cell_type": "code",
   "execution_count": 14,
   "metadata": {},
   "outputs": [
    {
     "data": {
      "text/plain": [
       "10"
      ]
     },
     "execution_count": 14,
     "metadata": {},
     "output_type": "execute_result"
    }
   ],
   "source": [
    "matrix_rank(batch1_X)"
   ]
  },
  {
   "cell_type": "code",
   "execution_count": 20,
   "metadata": {},
   "outputs": [
    {
     "data": {
      "text/plain": [
       "array([1.        , 0.902077  , 0.67061305, 0.42157524, 0.23962932,\n",
       "       0.14060704, 0.09835715, 0.08307717, 0.07732722, 0.07419289])"
      ]
     },
     "execution_count": 20,
     "metadata": {},
     "output_type": "execute_result"
    }
   ],
   "source": [
    "linalg.svdvals(batch1_X)"
   ]
  },
  {
   "cell_type": "markdown",
   "metadata": {},
   "source": [
    "## 1. effective_rank: the underlying factors of the dataset."
   ]
  },
  {
   "cell_type": "code",
   "execution_count": 27,
   "metadata": {},
   "outputs": [
    {
     "data": {
      "text/plain": [
       "[<matplotlib.lines.Line2D at 0x7fcf80b5f350>]"
      ]
     },
     "execution_count": 27,
     "metadata": {},
     "output_type": "execute_result"
    },
    {
     "data": {
      "image/png": "[encoded data removed]",
      "text/plain": [
       "<Figure size 432x288 with 1 Axes>"
      ]
     },
     "metadata": {
      "needs_background": "light"
     },
     "output_type": "display_data"
    }
   ],
   "source": [
    "plt.plot(range(1, 11), linalg.svdvals(batch1_X))"
   ]
  },
  {
   "cell_type": "code",
   "execution_count": 28,
   "metadata": {},
   "outputs": [
    {
     "data": {
      "text/plain": [
       "[<matplotlib.lines.Line2D at 0x7fcf80af13d0>]"
      ]
     },
     "execution_count": 28,
     "metadata": {},
     "output_type": "execute_result"
    },
    {
     "data": {
      "image/png": "[encoded data removed]",
      "text/plain": [
       "<Figure size 432x288 with 1 Axes>"
      ]
     },
     "metadata": {
      "needs_background": "light"
     },
     "output_type": "display_data"
    }
   ],
   "source": [
    "evt2 = Event(n_features=n_features, effective_rank=1, noise_level=1)\n",
    "X, y = evt2.sample(n_samples=100)\n",
    "plt.plot(range(1, 11), linalg.svdvals(X))"
   ]
  },
  {
   "cell_type": "code",
   "execution_count": 33,
   "metadata": {},
   "outputs": [],
   "source": [
    "def bias(y, y_chap):\n",
    "    return sum((y-y_chap) ** 2)"
   ]
  },
  {
   "cell_type": "code",
   "execution_count": 34,
   "metadata": {},
   "outputs": [
    {
     "data": {
      "text/plain": [
       "[1, 2, 3]"
      ]
     },
     "execution_count": 34,
     "metadata": {},
     "output_type": "execute_result"
    }
   ],
   "source": [
    "a = [1,2,3]\n",
    "a"
   ]
  },
  {
   "cell_type": "code",
   "execution_count": 11,
   "metadata": {},
   "outputs": [],
   "source": [
    "def compute_risk(model, evt, ntimes, n_samples, X0):\n",
    "    pred_model = []\n",
    "    for i in range(ntimes):\n",
    "        X, y = evt.sample(n_samples)\n",
    "        model.fit(X, y)\n",
    "        pred = model.predict(X0)\n",
    "        pred_model.append(pred)\n",
    "    betas = evt.coefficients\n",
    "    y0 = np.dot(X0, betas)\n",
    "    bias = np.mean(pred_model - y0)\n",
    "    var = np.var(pred_model)\n",
    "    risk = np.mean((pred_model - y0)**2)\n",
    "    return risk, var, bias"
   ]
  },
  {
   "cell_type": "code",
   "execution_count": 40,
   "metadata": {
    "scrolled": false
   },
   "outputs": [
    {
     "data": {
      "text/plain": [
       "0.6666666666666666"
      ]
     },
     "execution_count": 40,
     "metadata": {},
     "output_type": "execute_result"
    }
   ],
   "source": [
    "np.var([1,2,3])"
   ]
  },
  {
   "cell_type": "code",
   "execution_count": 44,
   "metadata": {},
   "outputs": [
    {
     "data": {
      "text/plain": [
       "0.7071067811865476"
      ]
     },
     "execution_count": 44,
     "metadata": {},
     "output_type": "execute_result"
    }
   ],
   "source": [
    "np.sqrt(2)/2"
   ]
  },
  {
   "cell_type": "code",
   "execution_count": 45,
   "metadata": {},
   "outputs": [
    {
     "data": {
      "text/plain": [
       "14"
      ]
     },
     "execution_count": 45,
     "metadata": {},
     "output_type": "execute_result"
    }
   ],
   "source": [
    "np.dot([1,2,3], [1,2,3])"
   ]
  },
  {
   "cell_type": "code",
   "execution_count": null,
   "metadata": {},
   "outputs": [],
   "source": [
    "compute_risk(LinearRegression(), evt, ntimes, n_samples, X0)"
   ]
  },
  {
   "cell_type": "code",
   "execution_count": 39,
   "metadata": {},
   "outputs": [
    {
     "data": {
      "text/plain": [
       "array([[-0.6593749 , -0.63752457,  0.88641547,  0.49274159,  0.3936153 ,\n",
       "        -0.40870804,  0.36273948,  0.93537553,  0.27398677,  0.24636814]])"
      ]
     },
     "execution_count": 39,
     "metadata": {},
     "output_type": "execute_result"
    }
   ],
   "source": [
    "ntimes = 1000\n",
    "n_samples = 100\n",
    "X0 = np.random.randn(1, n_features)\n",
    "X0"
   ]
  },
  {
   "cell_type": "code",
   "execution_count": 57,
   "metadata": {},
   "outputs": [],
   "source": [
    "risk_lin, var_lin, bias_lin = compute_risk(LinearRegression(), evt, ntimes, n_samples, X0)"
   ]
  },
  {
   "cell_type": "code",
   "execution_count": 48,
   "metadata": {},
   "outputs": [],
   "source": [
    "risk_ridge, var_ridge, bias_ridge = compute_risk(lin_result[i, 0], lin_result[i, 1], lin_result[i, 2] = compute_risk(LinearRegression(), evt, ntimes=ntimes, n_samples=n_samples, X0), evt, ntimes, n_samples, X0)"
   ]
  },
  {
   "cell_type": "code",
   "execution_count": 49,
   "metadata": {},
   "outputs": [],
   "source": [
    "risk_lasso, var_lasso, bias_lasso = compute_risk(Lasso(), evt, ntimes, n_samples, X0)"
   ]
  },
  {
   "cell_type": "code",
   "execution_count": 61,
   "metadata": {},
   "outputs": [],
   "source": [
    "lin = compute_risk(LinearRegression(), evt, ntimes, n_samples, X0)\n",
    "ridge = compute_risk(Ridge(), evt, ntimes, n_samples, X0)\n",
    "lasso = compute_risk(Lasso(), evt, ntimes, n_samples, X0)"
   ]
  },
  {
   "cell_type": "code",
   "execution_count": 63,
   "metadata": {},
   "outputs": [
    {
     "name": "stdout",
     "output_type": "stream",
     "text": [
      "Risk: 41.962542\tVariance: 41.874421\tBias: 0.2968511886217732\n",
      "Risk: 192.612055\tVariance: 0.043441\tBias: 13.87690938510614\n",
      "Risk: 119.166094\tVariance: 0.062735\tBias: 10.913448517590066\n"
     ]
    }
   ],
   "source": [
    "for results in [lin, ridge, lasso]:\n",
    "    output = \"Risk: %f\\tVariance: %f\\tBias: %s\"\n",
    "    print(output % results)"
   ]
  },
  {
   "cell_type": "code",
   "execution_count": 64,
   "metadata": {},
   "outputs": [],
   "source": [
    "from sklearn.linear_model import LassoCV, RidgeCV"
   ]
  },
  {
   "cell_type": "code",
   "execution_count": 65,
   "metadata": {},
   "outputs": [],
   "source": [
    "model = LassoCV(cv=5)"
   ]
  },
  {
   "cell_type": "markdown",
   "metadata": {},
   "source": [
    "##  Show the influence of the dataset’s effective rank on the 3 algorithms and interpret.\n"
   ]
  },
  {
   "cell_type": "code",
   "execution_count": 36,
   "metadata": {},
   "outputs": [],
   "source": [
    "effective_ranks = range(0, 50)\n",
    "n_features = 100\n",
    "lin_result = np.zeros((len(effective_ranks), 3))\n",
    "lasso_result = np.zeros((len(effective_ranks), 3))\n",
    "ridge_result = np.zeros((len(effective_ranks), 3))\n",
    "X0 = np.random.randn(1, n_features)\n",
    "ntimes=100\n",
    "n_samples=1000\n",
    "\n",
    "for i, effective_rank in enumerate(effective_ranks):\n",
    "    evt = Event(n_features=n_features, effective_rank=effective_rank+1, noise_level=1)\n",
    "    lin_result[i, 0], lin_result[i, 1], lin_result[i, 2] = compute_risk(LinearRegression(), evt, ntimes, n_samples, X0)\n",
    "    ridge_result[i, 0], ridge_result[i, 1], ridge_result[i, 2] = compute_risk(Ridge(), evt, ntimes, n_samples, X0)\n",
    "    lasso_result[i, 0], lasso_result[i, 1], lasso_result[i, 2] = compute_risk(Lasso(), evt, ntimes, n_samples, X0)"
   ]
  },
  {
   "cell_type": "code",
   "execution_count": 37,
   "metadata": {},
   "outputs": [
    {
     "data": {
      "text/plain": [
       "[<matplotlib.lines.Line2D at 0x7fb72bd79e50>]"
      ]
     },
     "execution_count": 37,
     "metadata": {},
     "output_type": "execute_result"
    },
    {
     "data": {
      "image/png": "[encoded data removed]",
      "text/plain": [
       "<Figure size 432x288 with 1 Axes>"
      ]
     },
     "metadata": {
      "needs_background": "light"
     },
     "output_type": "display_data"
    }
   ],
   "source": [
    "import matplotlib.pyplot as plt\n",
    "plt.plot(effective_ranks, lin_result[:,0],'g-')\n",
    "plt.plot(effective_ranks, lin_result[:,1], 'r.')\n",
    "plt.plot(effective_ranks, lin_result[:,2], 'y*')"
   ]
  },
  {
   "cell_type": "code",
   "execution_count": 38,
   "metadata": {},
   "outputs": [
    {
     "data": {
      "text/plain": [
       "[<matplotlib.lines.Line2D at 0x7fb72bce3e10>]"
      ]
     },
     "execution_count": 38,
     "metadata": {},
     "output_type": "execute_result"
    },
    {
     "data": {
      "image/png": "[encoded data removed]",
      "text/plain": [
       "<Figure size 432x288 with 1 Axes>"
      ]
     },
     "metadata": {
      "needs_background": "light"
     },
     "output_type": "display_data"
    }
   ],
   "source": [
    "plt.plot(effective_ranks, lasso_result[:,0],'g-')\n",
    "plt.plot(effective_ranks, lasso_result[:,1], 'r.')\n",
    "plt.plot(effective_ranks, lasso_result[:,2], 'y*')"
   ]
  },
  {
   "cell_type": "code",
   "execution_count": 39,
   "metadata": {},
   "outputs": [
    {
     "data": {
      "text/plain": [
       "[<matplotlib.lines.Line2D at 0x7fb72bc46d90>]"
      ]
     },
     "execution_count": 39,
     "metadata": {},
     "output_type": "execute_result"
    },
    {
     "data": {
      "image/png": "[encoded data removed]",
      "text/plain": [
       "<Figure size 432x288 with 1 Axes>"
      ]
     },
     "metadata": {
      "needs_background": "light"
     },
     "output_type": "display_data"
    }
   ],
   "source": [
    "plt.plot(effective_ranks, ridge_result[:,0],'g-')\n",
    "plt.plot(effective_ranks, ridge_result[:,1], 'r.')\n",
    "plt.plot(effective_ranks, ridge_result[:,2], 'y*')"
   ]
  },
  {
   "cell_type": "code",
   "execution_count": null,
   "metadata": {},
   "outputs": [],
   "source": []
  }
 ],
 "metadata": {
  "kernelspec": {
   "display_name": "Python 3",
   "language": "python",
   "name": "python3"
  },
  "language_info": {
   "codemirror_mode": {
    "name": "ipython",
    "version": 3
   },
   "file_extension": ".py",
   "mimetype": "text/x-python",
   "name": "python",
   "nbconvert_exporter": "python",
   "pygments_lexer": "ipython3",
   "version": "3.7.6"
  }
 },
 "nbformat": 4,
 "nbformat_minor": 4
}
