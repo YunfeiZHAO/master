{
 "cells": [
  {
   "cell_type": "code",
   "execution_count": 2,
   "metadata": {},
   "outputs": [],
   "source": [
    "from sklearn.datasets import fetch_lfw_people\n",
    "from sklearn.model_selection import train_test_split\n",
    "from matplotlib import pyplot as plt\n",
    "from sklearn.decomposition import PCA\n",
    "\n",
    "from sklearn.svm import SVC\n",
    "from sklearn.metrics import confusion_matrix\n",
    "from sklearn.metrics import classification_report \n",
    "from sklearn.metrics import accuracy_score\n",
    "\n",
    "from sklearn.model_selection import GridSearchCV\n",
    "import numpy as np\n",
    "\n",
    "from sklearn.pipeline import Pipeline"
   ]
  },
  {
   "cell_type": "code",
   "execution_count": 1,
   "metadata": {
    "scrolled": false
   },
   "outputs": [
    {
     "name": "stderr",
     "output_type": "stream",
     "text": [
      "Downloading LFW metadata: https://ndownloader.figshare.com/files/5976012\n",
      "Downloading LFW metadata: https://ndownloader.figshare.com/files/5976009\n",
      "Downloading LFW metadata: https://ndownloader.figshare.com/files/5976006\n",
      "Downloading LFW data (~200MB): https://ndownloader.figshare.com/files/5976015\n"
     ]
    }
   ],
   "source": [
    "faces = fetch_lfw_people(min_faces_per_person=60)"
   ]
  },
  {
   "cell_type": "code",
   "execution_count": 2,
   "metadata": {},
   "outputs": [
    {
     "name": "stdout",
     "output_type": "stream",
     "text": [
      "(1348, 62, 47)\n"
     ]
    }
   ],
   "source": [
    "print(faces.images.shape)"
   ]
  },
  {
   "cell_type": "code",
   "execution_count": 3,
   "metadata": {},
   "outputs": [
    {
     "name": "stdout",
     "output_type": "stream",
     "text": [
      "['Ariel Sharon' 'Colin Powell' 'Donald Rumsfeld' 'George W Bush'\n",
      " 'Gerhard Schroeder' 'Hugo Chavez' 'Junichiro Koizumi' 'Tony Blair']\n"
     ]
    }
   ],
   "source": [
    "print(faces.target_names)"
   ]
  },
  {
   "cell_type": "code",
   "execution_count": 10,
   "metadata": {},
   "outputs": [],
   "source": [
    "X = faces.data\n",
    "y = faces.target\n",
    "X_train, X_test, y_train, y_test = train_test_split(X, y, test_size=0.25)"
   ]
  },
  {
   "cell_type": "code",
   "execution_count": 12,
   "metadata": {},
   "outputs": [
    {
     "data": {
      "text/plain": [
       "<matplotlib.image.AxesImage at 0x1a1bec03c8>"
      ]
     },
     "execution_count": 12,
     "metadata": {},
     "output_type": "execute_result"
    },
    {
     "data": {
      "image/png": "[encoded data removed]",
      "text/plain": [
       "<Figure size 432x288 with 1 Axes>"
      ]
     },
     "metadata": {
      "needs_background": "light"
     },
     "output_type": "display_data"
    }
   ],
   "source": [
    "plt.imshow(faces.images[0])"
   ]
  },
  {
   "cell_type": "code",
   "execution_count": 15,
   "metadata": {},
   "outputs": [
    {
     "data": {
      "text/plain": [
       "PCA(copy=True, iterated_power='auto', n_components=100, random_state=None,\n",
       "    svd_solver='auto', tol=0.0, whiten=True)"
      ]
     },
     "execution_count": 15,
     "metadata": {},
     "output_type": "execute_result"
    }
   ],
   "source": [
    "n_components = 100\n",
    "pca = PCA(n_components=n_components, whiten=True)\n",
    "pca.fit(X_train)"
   ]
  },
  {
   "cell_type": "code",
   "execution_count": 17,
   "metadata": {},
   "outputs": [
    {
     "name": "stdout",
     "output_type": "stream",
     "text": [
      "0.9182862798916176\n"
     ]
    }
   ],
   "source": [
    "X_train_pca = pca.transform(X_train) \n",
    "X_test_pca = pca.transform(X_test) \n",
    "print(sum(pca.explained_variance_ratio_))"
   ]
  },
  {
   "cell_type": "code",
   "execution_count": 19,
   "metadata": {},
   "outputs": [
    {
     "data": {
      "text/plain": [
       "SVC(C=1.0, break_ties=False, cache_size=200, class_weight=None, coef0=0.0,\n",
       "    decision_function_shape='ovr', degree=3, gamma='auto', kernel='rbf',\n",
       "    max_iter=-1, probability=False, random_state=None, shrinking=True,\n",
       "    tol=0.001, verbose=False)"
      ]
     },
     "execution_count": 19,
     "metadata": {},
     "output_type": "execute_result"
    }
   ],
   "source": [
    "svc = SVC(kernel='rbf', gamma='auto') \n",
    "svc.fit(X_train_pca, y_train)"
   ]
  },
  {
   "cell_type": "code",
   "execution_count": 22,
   "metadata": {},
   "outputs": [
    {
     "name": "stdout",
     "output_type": "stream",
     "text": [
      "[[  7   1   0   7   0   0   0   0]\n",
      " [  0  46   0   8   0   0   0   0]\n",
      " [  0   1  22  10   0   0   0   0]\n",
      " [  0   2   0 139   0   0   0   0]\n",
      " [  0   0   0   8  19   0   0   3]\n",
      " [  0   4   0   4   0  11   0   0]\n",
      " [  0   0   0   2   0   0  15   1]\n",
      " [  0   0   0   7   0   0   0  20]]\n"
     ]
    }
   ],
   "source": [
    "y_pred = svc.predict(X_test_pca)\n",
    "print(confusion_matrix(y_test, y_pred, labels=range(len(faces.target_names))))"
   ]
  },
  {
   "cell_type": "code",
   "execution_count": 23,
   "metadata": {},
   "outputs": [
    {
     "name": "stdout",
     "output_type": "stream",
     "text": [
      "                   precision    recall  f1-score   support\n",
      "\n",
      "     Ariel Sharon       1.00      0.47      0.64        15\n",
      "     Colin Powell       0.85      0.85      0.85        54\n",
      "  Donald Rumsfeld       1.00      0.67      0.80        33\n",
      "    George W Bush       0.75      0.99      0.85       141\n",
      "Gerhard Schroeder       1.00      0.63      0.78        30\n",
      "      Hugo Chavez       1.00      0.58      0.73        19\n",
      "Junichiro Koizumi       1.00      0.83      0.91        18\n",
      "       Tony Blair       0.83      0.74      0.78        27\n",
      "\n",
      "         accuracy                           0.83       337\n",
      "        macro avg       0.93      0.72      0.79       337\n",
      "     weighted avg       0.86      0.83      0.82       337\n",
      "\n"
     ]
    }
   ],
   "source": [
    "print(classification_report(y_test, y_pred, target_names=faces.target_names))"
   ]
  },
  {
   "cell_type": "markdown",
   "metadata": {},
   "source": [
    "## hyper parameters tuning\n",
    "There is the parameter γ in the Gaussian kernel and the parameter C that controls the regularization for the SVM model. One could also have the kernel itself as a (qualitative) hyperparameter and the number of retained principal components in the PCA as another hyperparameter but this would make the grid search more difficult as the hyperparameters wouldn’t be independent anymore."
   ]
  },
  {
   "cell_type": "code",
   "execution_count": 26,
   "metadata": {},
   "outputs": [
    {
     "name": "stderr",
     "output_type": "stream",
     "text": [
      "/Users/yunfei/anaconda3/lib/python3.7/site-packages/sklearn/model_selection/_search.py:823: FutureWarning: The parameter 'iid' is deprecated in 0.22 and will be removed in 0.24.\n",
      "  \"removed in 0.24.\", FutureWarning\n"
     ]
    }
   ],
   "source": [
    "param_grid = {\"C\": np.logspace(-2, 3, 10), \"gamma\": np.logspace(-4, 1, 10)}\n",
    "clf = GridSearchCV(SVC(kernel=\"rbf\", gamma=\"auto\"), param_grid, iid=False, cv=5)\n",
    "clf = clf.fit(X_train_pca, y_train)"
   ]
  },
  {
   "cell_type": "code",
   "execution_count": 27,
   "metadata": {},
   "outputs": [
    {
     "name": "stdout",
     "output_type": "stream",
     "text": [
      "SVC(C=21.544346900318846, break_ties=False, cache_size=200, class_weight=None,\n",
      "    coef0=0.0, decision_function_shape='ovr', degree=3,\n",
      "    gamma=0.004641588833612782, kernel='rbf', max_iter=-1, probability=False,\n",
      "    random_state=None, shrinking=True, tol=0.001, verbose=False)\n"
     ]
    }
   ],
   "source": [
    "print(clf.best_estimator_)"
   ]
  },
  {
   "cell_type": "code",
   "execution_count": 28,
   "metadata": {},
   "outputs": [
    {
     "name": "stdout",
     "output_type": "stream",
     "text": [
      "[[ 12   2   0   1   0   0   0   0]\n",
      " [  1  51   0   1   0   0   0   1]\n",
      " [  1   1  28   2   0   0   0   1]\n",
      " [  0   6   4 130   0   0   1   0]\n",
      " [  0   0   0   2  23   0   0   5]\n",
      " [  0   4   0   1   1  13   0   0]\n",
      " [  1   0   0   0   0   0  17   0]\n",
      " [  0   1   0   0   1   0   0  25]]\n"
     ]
    }
   ],
   "source": [
    "y_pred = clf.predict(X_test_pca)\n",
    "print(confusion_matrix(y_test, y_pred, labels=range(len(faces.target_names))))"
   ]
  },
  {
   "cell_type": "code",
   "execution_count": 30,
   "metadata": {},
   "outputs": [
    {
     "name": "stdout",
     "output_type": "stream",
     "text": [
      "                   precision    recall  f1-score   support\n",
      "\n",
      "     Ariel Sharon       0.80      0.80      0.80        15\n",
      "     Colin Powell       0.78      0.94      0.86        54\n",
      "  Donald Rumsfeld       0.88      0.85      0.86        33\n",
      "    George W Bush       0.95      0.92      0.94       141\n",
      "Gerhard Schroeder       0.92      0.77      0.84        30\n",
      "      Hugo Chavez       1.00      0.68      0.81        19\n",
      "Junichiro Koizumi       0.94      0.94      0.94        18\n",
      "       Tony Blair       0.78      0.93      0.85        27\n",
      "\n",
      "         accuracy                           0.89       337\n",
      "        macro avg       0.88      0.85      0.86       337\n",
      "     weighted avg       0.90      0.89      0.89       337\n",
      "\n"
     ]
    }
   ],
   "source": [
    "print(classification_report(y_test, y_pred, target_names=faces.target_names))"
   ]
  },
  {
   "cell_type": "code",
   "execution_count": 31,
   "metadata": {},
   "outputs": [
    {
     "name": "stdout",
     "output_type": "stream",
     "text": [
      "0.887240356083086\n"
     ]
    }
   ],
   "source": [
    "print(accuracy_score(y_test, y_pred))"
   ]
  },
  {
   "cell_type": "code",
   "execution_count": 34,
   "metadata": {},
   "outputs": [],
   "source": [
    "pca = PCA(whiten=True)\n",
    "lin = SVC(kernel='rbf', gamma='auto')\n",
    "pca_svc = Pipeline([(\"pca\", pca), (\"svc\", svc)]) \n",
    "clf = GridSearchCV(\n",
    "    estimator=pca_svc, \n",
    "    cv=5,\n",
    "    iid=False, \n",
    "    param_grid=dict(\n",
    "        pca__n_components=[80, 90, 100, 110], \n",
    "        svc__C=np.logspace(-2, 3, 2), \n",
    "        svc__gamma=np.logspace(-4, 1, 2),\n",
    "    ), \n",
    ")"
   ]
  },
  {
   "cell_type": "code",
   "execution_count": 35,
   "metadata": {},
   "outputs": [
    {
     "name": "stderr",
     "output_type": "stream",
     "text": [
      "/Users/yunfei/anaconda3/lib/python3.7/site-packages/sklearn/model_selection/_validation.py:536: FitFailedWarning: Estimator fit failed. The score on this train-test partition for these parameters will be set to nan. Details: \n",
      "ValueError: n_components=110 must be between 0 and min(n_samples, n_features)=100 with svd_solver='full'\n",
      "\n",
      "  FitFailedWarning)\n",
      "/Users/yunfei/anaconda3/lib/python3.7/site-packages/sklearn/model_selection/_validation.py:536: FitFailedWarning: Estimator fit failed. The score on this train-test partition for these parameters will be set to nan. Details: \n",
      "ValueError: n_components=110 must be between 0 and min(n_samples, n_features)=100 with svd_solver='full'\n",
      "\n",
      "  FitFailedWarning)\n",
      "/Users/yunfei/anaconda3/lib/python3.7/site-packages/sklearn/model_selection/_validation.py:536: FitFailedWarning: Estimator fit failed. The score on this train-test partition for these parameters will be set to nan. Details: \n",
      "ValueError: n_components=110 must be between 0 and min(n_samples, n_features)=100 with svd_solver='full'\n",
      "\n",
      "  FitFailedWarning)\n",
      "/Users/yunfei/anaconda3/lib/python3.7/site-packages/sklearn/model_selection/_validation.py:536: FitFailedWarning: Estimator fit failed. The score on this train-test partition for these parameters will be set to nan. Details: \n",
      "ValueError: n_components=110 must be between 0 and min(n_samples, n_features)=100 with svd_solver='full'\n",
      "\n",
      "  FitFailedWarning)\n",
      "/Users/yunfei/anaconda3/lib/python3.7/site-packages/sklearn/model_selection/_validation.py:536: FitFailedWarning: Estimator fit failed. The score on this train-test partition for these parameters will be set to nan. Details: \n",
      "ValueError: n_components=110 must be between 0 and min(n_samples, n_features)=100 with svd_solver='full'\n",
      "\n",
      "  FitFailedWarning)\n",
      "/Users/yunfei/anaconda3/lib/python3.7/site-packages/sklearn/model_selection/_validation.py:536: FitFailedWarning: Estimator fit failed. The score on this train-test partition for these parameters will be set to nan. Details: \n",
      "ValueError: n_components=110 must be between 0 and min(n_samples, n_features)=100 with svd_solver='full'\n",
      "\n",
      "  FitFailedWarning)\n",
      "/Users/yunfei/anaconda3/lib/python3.7/site-packages/sklearn/model_selection/_validation.py:536: FitFailedWarning: Estimator fit failed. The score on this train-test partition for these parameters will be set to nan. Details: \n",
      "ValueError: n_components=110 must be between 0 and min(n_samples, n_features)=100 with svd_solver='full'\n",
      "\n",
      "  FitFailedWarning)\n",
      "/Users/yunfei/anaconda3/lib/python3.7/site-packages/sklearn/model_selection/_validation.py:536: FitFailedWarning: Estimator fit failed. The score on this train-test partition for these parameters will be set to nan. Details: \n",
      "ValueError: n_components=110 must be between 0 and min(n_samples, n_features)=100 with svd_solver='full'\n",
      "\n",
      "  FitFailedWarning)\n",
      "/Users/yunfei/anaconda3/lib/python3.7/site-packages/sklearn/model_selection/_validation.py:536: FitFailedWarning: Estimator fit failed. The score on this train-test partition for these parameters will be set to nan. Details: \n",
      "ValueError: n_components=110 must be between 0 and min(n_samples, n_features)=100 with svd_solver='full'\n",
      "\n",
      "  FitFailedWarning)\n",
      "/Users/yunfei/anaconda3/lib/python3.7/site-packages/sklearn/model_selection/_validation.py:536: FitFailedWarning: Estimator fit failed. The score on this train-test partition for these parameters will be set to nan. Details: \n",
      "ValueError: n_components=110 must be between 0 and min(n_samples, n_features)=100 with svd_solver='full'\n",
      "\n",
      "  FitFailedWarning)\n",
      "/Users/yunfei/anaconda3/lib/python3.7/site-packages/sklearn/model_selection/_validation.py:536: FitFailedWarning: Estimator fit failed. The score on this train-test partition for these parameters will be set to nan. Details: \n",
      "ValueError: n_components=110 must be between 0 and min(n_samples, n_features)=100 with svd_solver='full'\n",
      "\n",
      "  FitFailedWarning)\n",
      "/Users/yunfei/anaconda3/lib/python3.7/site-packages/sklearn/model_selection/_validation.py:536: FitFailedWarning: Estimator fit failed. The score on this train-test partition for these parameters will be set to nan. Details: \n",
      "ValueError: n_components=110 must be between 0 and min(n_samples, n_features)=100 with svd_solver='full'\n",
      "\n",
      "  FitFailedWarning)\n",
      "/Users/yunfei/anaconda3/lib/python3.7/site-packages/sklearn/model_selection/_validation.py:536: FitFailedWarning: Estimator fit failed. The score on this train-test partition for these parameters will be set to nan. Details: \n",
      "ValueError: n_components=110 must be between 0 and min(n_samples, n_features)=100 with svd_solver='full'\n",
      "\n",
      "  FitFailedWarning)\n",
      "/Users/yunfei/anaconda3/lib/python3.7/site-packages/sklearn/model_selection/_validation.py:536: FitFailedWarning: Estimator fit failed. The score on this train-test partition for these parameters will be set to nan. Details: \n",
      "ValueError: n_components=110 must be between 0 and min(n_samples, n_features)=100 with svd_solver='full'\n",
      "\n",
      "  FitFailedWarning)\n",
      "/Users/yunfei/anaconda3/lib/python3.7/site-packages/sklearn/model_selection/_validation.py:536: FitFailedWarning: Estimator fit failed. The score on this train-test partition for these parameters will be set to nan. Details: \n",
      "ValueError: n_components=110 must be between 0 and min(n_samples, n_features)=100 with svd_solver='full'\n",
      "\n",
      "  FitFailedWarning)\n",
      "/Users/yunfei/anaconda3/lib/python3.7/site-packages/sklearn/model_selection/_validation.py:536: FitFailedWarning: Estimator fit failed. The score on this train-test partition for these parameters will be set to nan. Details: \n",
      "ValueError: n_components=110 must be between 0 and min(n_samples, n_features)=100 with svd_solver='full'\n",
      "\n",
      "  FitFailedWarning)\n",
      "/Users/yunfei/anaconda3/lib/python3.7/site-packages/sklearn/model_selection/_validation.py:536: FitFailedWarning: Estimator fit failed. The score on this train-test partition for these parameters will be set to nan. Details: \n",
      "ValueError: n_components=110 must be between 0 and min(n_samples, n_features)=100 with svd_solver='full'\n",
      "\n",
      "  FitFailedWarning)\n",
      "/Users/yunfei/anaconda3/lib/python3.7/site-packages/sklearn/model_selection/_validation.py:536: FitFailedWarning: Estimator fit failed. The score on this train-test partition for these parameters will be set to nan. Details: \n",
      "ValueError: n_components=110 must be between 0 and min(n_samples, n_features)=100 with svd_solver='full'\n",
      "\n",
      "  FitFailedWarning)\n",
      "/Users/yunfei/anaconda3/lib/python3.7/site-packages/sklearn/model_selection/_validation.py:536: FitFailedWarning: Estimator fit failed. The score on this train-test partition for these parameters will be set to nan. Details: \n",
      "ValueError: n_components=110 must be between 0 and min(n_samples, n_features)=100 with svd_solver='full'\n",
      "\n",
      "  FitFailedWarning)\n",
      "/Users/yunfei/anaconda3/lib/python3.7/site-packages/sklearn/model_selection/_validation.py:536: FitFailedWarning: Estimator fit failed. The score on this train-test partition for these parameters will be set to nan. Details: \n",
      "ValueError: n_components=110 must be between 0 and min(n_samples, n_features)=100 with svd_solver='full'\n",
      "\n",
      "  FitFailedWarning)\n",
      "/Users/yunfei/anaconda3/lib/python3.7/site-packages/sklearn/model_selection/_search.py:823: FutureWarning: The parameter 'iid' is deprecated in 0.22 and will be removed in 0.24.\n",
      "  \"removed in 0.24.\", FutureWarning\n"
     ]
    }
   ],
   "source": [
    "clf = clf.fit(X_train_pca, y_train)"
   ]
  },
  {
   "cell_type": "code",
   "execution_count": 36,
   "metadata": {},
   "outputs": [
    {
     "name": "stdout",
     "output_type": "stream",
     "text": [
      "[[ 12   2   0   1   0   0   0   0]\n",
      " [  1  51   0   1   0   0   0   1]\n",
      " [  1   1  28   2   0   0   0   1]\n",
      " [  0   6   4 130   0   0   1   0]\n",
      " [  0   0   0   2  23   0   0   5]\n",
      " [  0   4   0   1   1  13   0   0]\n",
      " [  1   0   0   0   0   0  17   0]\n",
      " [  0   1   0   0   1   0   0  25]]\n"
     ]
    }
   ],
   "source": [
    "print(confusion_matrix(y_test, y_pred, labels=range(len(faces.target_names))))"
   ]
  },
  {
   "cell_type": "code",
   "execution_count": 37,
   "metadata": {},
   "outputs": [
    {
     "name": "stdout",
     "output_type": "stream",
     "text": [
      "Pipeline(memory=None,\n",
      "         steps=[('pca',\n",
      "                 PCA(copy=True, iterated_power='auto', n_components=100,\n",
      "                     random_state=None, svd_solver='auto', tol=0.0,\n",
      "                     whiten=True)),\n",
      "                ('svc',\n",
      "                 SVC(C=1000.0, break_ties=False, cache_size=200,\n",
      "                     class_weight=None, coef0=0.0,\n",
      "                     decision_function_shape='ovr', degree=3, gamma=0.0001,\n",
      "                     kernel='rbf', max_iter=-1, probability=False,\n",
      "                     random_state=None, shrinking=True, tol=0.001,\n",
      "                     verbose=False))],\n",
      "         verbose=False)\n"
     ]
    }
   ],
   "source": [
    "print(clf.best_estimator_)"
   ]
  },
  {
   "cell_type": "code",
   "execution_count": 38,
   "metadata": {},
   "outputs": [
    {
     "name": "stdout",
     "output_type": "stream",
     "text": [
      "[[ 11   1   1   2   0   0   0   0]\n",
      " [  1  47   1   3   1   0   1   0]\n",
      " [  3   1  27   1   0   0   0   1]\n",
      " [  4  10   5 119   1   0   1   1]\n",
      " [  0   1   0   2  20   0   0   7]\n",
      " [  1   4   0   1   1  12   0   0]\n",
      " [  1   0   0   0   0   0  17   0]\n",
      " [  0   1   0   4   1   0   0  21]]\n"
     ]
    }
   ],
   "source": [
    "y_pred = clf.predict(X_test_pca)\n",
    "print(confusion_matrix(y_test, y_pred, labels=range(len(faces.target_names))))"
   ]
  },
  {
   "cell_type": "code",
   "execution_count": 39,
   "metadata": {},
   "outputs": [
    {
     "name": "stdout",
     "output_type": "stream",
     "text": [
      "                   precision    recall  f1-score   support\n",
      "\n",
      "     Ariel Sharon       0.52      0.73      0.61        15\n",
      "     Colin Powell       0.72      0.87      0.79        54\n",
      "  Donald Rumsfeld       0.79      0.82      0.81        33\n",
      "    George W Bush       0.90      0.84      0.87       141\n",
      "Gerhard Schroeder       0.83      0.67      0.74        30\n",
      "      Hugo Chavez       1.00      0.63      0.77        19\n",
      "Junichiro Koizumi       0.89      0.94      0.92        18\n",
      "       Tony Blair       0.70      0.78      0.74        27\n",
      "\n",
      "         accuracy                           0.81       337\n",
      "        macro avg       0.80      0.79      0.78       337\n",
      "     weighted avg       0.83      0.81      0.82       337\n",
      "\n"
     ]
    }
   ],
   "source": [
    "print(classification_report(y_test, y_pred, target_names=faces.target_names))"
   ]
  },
  {
   "cell_type": "markdown",
   "metadata": {},
   "source": [
    "# paper\n",
    "Chris J.C. Burges and Bernhard Schölkopf. “Improving the Accuracy and Speed of Support Vector Machines”. In: Advances in Neural Information Processing Systems 9. MIT Press, 1997, pp. 375–381."
   ]
  },
  {
   "cell_type": "code",
   "execution_count": 14,
   "metadata": {},
   "outputs": [],
   "source": [
    "a = np.array([[1,1,0],[4,5,0]])"
   ]
  },
  {
   "cell_type": "code",
   "execution_count": 11,
   "metadata": {},
   "outputs": [
    {
     "data": {
      "text/plain": [
       "array([[1, 1, 0],\n",
       "       [4, 5, 0]])"
      ]
     },
     "execution_count": 11,
     "metadata": {},
     "output_type": "execute_result"
    }
   ],
   "source": [
    "a"
   ]
  },
  {
   "cell_type": "code",
   "execution_count": 12,
   "metadata": {},
   "outputs": [],
   "source": [
    "def a\n",
    "a[a > 0] = 1 "
   ]
  },
  {
   "cell_type": "code",
   "execution_count": 13,
   "metadata": {},
   "outputs": [
    {
     "data": {
      "text/plain": [
       "array([[1, 1, 0],\n",
       "       [1, 1, 0]])"
      ]
     },
     "execution_count": 13,
     "metadata": {},
     "output_type": "execute_result"
    }
   ],
   "source": [
    "a"
   ]
  },
  {
   "cell_type": "code",
   "execution_count": 16,
   "metadata": {},
   "outputs": [],
   "source": [
    ","
   ]
  },
  {
   "cell_type": "code",
   "execution_count": 17,
   "metadata": {},
   "outputs": [
    {
     "data": {
      "text/plain": [
       "array([[1, 1, 0],\n",
       "       [1, 1, 0]])"
      ]
     },
     "execution_count": 17,
     "metadata": {},
     "output_type": "execute_result"
    }
   ],
   "source": [
    "normalize_0_1(a)"
   ]
  },
  {
   "cell_type": "code",
   "execution_count": null,
   "metadata": {},
   "outputs": [],
   "source": []
  }
 ],
 "metadata": {
  "kernelspec": {
   "display_name": "Python 3",
   "language": "python",
   "name": "python3"
  },
  "language_info": {
   "codemirror_mode": {
    "name": "ipython",
    "version": 3
   },
   "file_extension": ".py",
   "mimetype": "text/x-python",
   "name": "python",
   "nbconvert_exporter": "python",
   "pygments_lexer": "ipython3",
   "version": "3.7.3"
  }
 },
 "nbformat": 4,
 "nbformat_minor": 4
}
