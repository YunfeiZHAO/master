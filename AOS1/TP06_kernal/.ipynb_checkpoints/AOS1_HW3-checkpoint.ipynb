{
 "cells": [
  {
   "cell_type": "markdown",
   "metadata": {
    "id": "wtgBMJugHIwb"
   },
   "source": [
    "# Improving the Accuracy of Support Vector Machines\n",
    "\n",
    "AOS1 homework3\n",
    "\n",
    "author:\n",
    "Chen GONG\n",
    "Yunfei ZHAO\n",
    "\n",
    "date:\n",
    "19/oct/2020"
   ]
  },
  {
   "cell_type": "markdown",
   "metadata": {
    "id": "-Oe4ms-CHNPt"
   },
   "source": [
    "## Introduction\n",
    "\n",
    "The data set contains 10 types of handwritten digit pictures from 0-9, and each picture is normalized to a size of 28x28. The data we need is downloaded from this website: http://yann.lecun.com/exdb/mnist/\n",
    "\n",
    "We get 4 files, then decompress them and put them in a folder with this file."
   ]
  },
  {
   "cell_type": "code",
   "execution_count": 6,
   "metadata": {
    "id": "spRGaJ_lGi5W"
   },
   "outputs": [],
   "source": [
    "import struct\n",
    "from numpy import *\n",
    "import numpy as np\n",
    "import time\n",
    "from sklearn.svm import SVC\n",
    "\n",
    "def read_image(file_name):\n",
    "    #First read the files in binary mode\n",
    "    file_handle=open(file_name,\"rb\")  \n",
    "    file_content=file_handle.read()   \n",
    "    offset=0\n",
    "    head = struct.unpack_from('>IIII', file_content, offset)  \n",
    "    offset += struct.calcsize('>IIII')\n",
    "    imgNum = head[1]  #Number of pictures\n",
    "    rows = head[2]   #width\n",
    "    cols = head[3]  #height\n",
    "    images=np.empty((imgNum , 784))\n",
    "    image_size=rows*cols  #size of one picture\n",
    "    fmt='>' + str(image_size) + 'B' #format of one picture\n",
    "\n",
    "    for i in range(imgNum):\n",
    "        images[i] = np.array(struct.unpack_from(fmt, file_content, offset))\n",
    "        # images[i] = np.array(struct.unpack_from(fmt, file_content, offset)).reshape((rows, cols))\n",
    "        offset += struct.calcsize(fmt)\n",
    "    return images\n",
    "\n",
    "#read the label of picture\n",
    "def read_label(file_name):\n",
    "    file_handle = open(file_name, \"rb\")  \n",
    "    file_content = file_handle.read()  \n",
    "\n",
    "    head = struct.unpack_from('>II', file_content, 0)  \n",
    "    offset = struct.calcsize('>II')\n",
    "\n",
    "    labelNum = head[1]  \n",
    "    # print(labelNum)\n",
    "    bitsString = '>' + str(labelNum) + 'B'  \n",
    "    label = struct.unpack_from(bitsString, file_content, offset)  \n",
    "    return np.array(label)\n",
    "\n",
    "def normalize_0_1(data):\n",
    "    data[data > 0] = 1\n",
    "    return data\n",
    "\n",
    "def loadDataSet():\n",
    "    train_x_filename=\"train-images-idx3-ubyte\"\n",
    "    train_y_filename=\"train-labels-idx1-ubyte\"\n",
    "    test_x_filename=\"t10k-images-idx3-ubyte\"\n",
    "    test_y_filename=\"t10k-labels-idx1-ubyte\"\n",
    "    train_x=read_image(train_x_filename)#60000*784 \n",
    "    train_y=read_label(train_y_filename)#60000*1\n",
    "    test_x=read_image(test_x_filename)#10000*784\n",
    "    test_y=read_label(test_y_filename)#10000*1\n",
    "\n",
    "    return train_x, test_x, train_y, test_y"
   ]
  },
  {
   "cell_type": "code",
   "execution_count": 8,
   "metadata": {
    "id": "GWoU_BmtGsJ_"
   },
   "outputs": [],
   "source": [
    "X_train, X_test, y_train, y_test=loadDataSet()\n",
    "X_train = normalize_0_1(X_train)\n",
    "X_test = normalize_0_1(X_test)"
   ]
  },
  {
   "cell_type": "markdown",
   "metadata": {
    "id": "olq1lvOJHP1y"
   },
   "source": [
    "## The method for improving generalization performance (the \"virtual support vector\" method)\n",
    "\n",
    "This suggests the following algorithm: first , train an SVM to generate a set of support vectors {Sl, .. . , SN. }; then, generate the artificial examples (virtual support vectors) by applying the desired invariance transformations to {Sl , ... , SN.} ; finally, train another SVM on the new set. \n",
    "\n",
    " "
   ]
  },
  {
   "cell_type": "markdown",
   "metadata": {
    "id": "RjIV-ZG_HRbI"
   },
   "source": [
    "To build a ten-class classifier, this procedure is carried out separately for ten binary classifiers.\n",
    "The following is a classifier for number 9."
   ]
  },
  {
   "cell_type": "code",
   "execution_count": null,
   "metadata": {
    "id": "NvFt_Zi6Gub8"
   },
   "outputs": [],
   "source": [
    "y_train_9 = (y_train == 9) # True for all 9s, False for all other digits.\n",
    "y_test_9 = (y_test == 9)"
   ]
  },
  {
   "cell_type": "markdown",
   "metadata": {
    "id": "5e6IuIBNHWeb"
   },
   "source": [
    "As suggested in the paper, we use C=10, and the kernel function uses a polynomial kernel to train the model."
   ]
  },
  {
   "cell_type": "code",
   "execution_count": null,
   "metadata": {
    "colab": {
     "base_uri": "https://localhost:8080/",
     "height": 50
    },
    "id": "cgA8Ml4eGveR",
    "outputId": "62c29744-b92d-42e3-df84-262ed81899ce"
   },
   "outputs": [
    {
     "data": {
      "text/plain": [
       "array([[8971,   20],\n",
       "       [  39,  970]])"
      ]
     },
     "execution_count": 7,
     "metadata": {
      "tags": []
     },
     "output_type": "execute_result"
    }
   ],
   "source": [
    "from sklearn.svm import SVC\n",
    "svc = SVC(C=10, kernel='poly', gamma='auto')\n",
    "svc.fit(X_train, y_train_9)\n",
    "\n",
    "y_pred_9 = svc.predict(X_test)\n",
    "from sklearn.metrics import confusion_matrix\n",
    "confusion_matrix(y_test_9, y_pred_9)"
   ]
  },
  {
   "cell_type": "code",
   "execution_count": null,
   "metadata": {
    "colab": {
     "base_uri": "https://localhost:8080/",
     "height": 168
    },
    "id": "ec0FVIhvGwg_",
    "outputId": "3c99e441-d4bc-4dec-cd25-0a52dada70b6"
   },
   "outputs": [
    {
     "name": "stdout",
     "output_type": "stream",
     "text": [
      "              precision    recall  f1-score   support\n",
      "\n",
      "       False       1.00      1.00      1.00      8991\n",
      "        True       0.98      0.96      0.97      1009\n",
      "\n",
      "    accuracy                           0.99     10000\n",
      "   macro avg       0.99      0.98      0.98     10000\n",
      "weighted avg       0.99      0.99      0.99     10000\n",
      "\n"
     ]
    }
   ],
   "source": [
    "from sklearn.metrics import classification_report\n",
    "print(classification_report(y_test_9, y_pred_9))"
   ]
  },
  {
   "cell_type": "code",
   "execution_count": null,
   "metadata": {
    "colab": {
     "base_uri": "https://localhost:8080/",
     "height": 34
    },
    "id": "prLnFU5uGx5Y",
    "outputId": "2ff6874d-e9de-4f26-e1fd-bfd147dd6c12"
   },
   "outputs": [
    {
     "data": {
      "text/plain": [
       "array([1877, 1008], dtype=int32)"
      ]
     },
     "execution_count": 9,
     "metadata": {
      "tags": []
     },
     "output_type": "execute_result"
    }
   ],
   "source": [
    "svc.n_support_  #-1类和+1类分别有1877个和1088个支持向量"
   ]
  },
  {
   "cell_type": "code",
   "execution_count": null,
   "metadata": {
    "colab": {
     "base_uri": "https://localhost:8080/",
     "height": 134
    },
    "id": "liW_prNpGy-V",
    "outputId": "6d8592fb-a0df-4a32-bb0b-38f0bc1a1c46"
   },
   "outputs": [
    {
     "data": {
      "text/plain": [
       "array([[0., 0., 0., ..., 0., 0., 0.],\n",
       "       [0., 0., 0., ..., 0., 0., 0.],\n",
       "       [0., 0., 0., ..., 0., 0., 0.],\n",
       "       ...,\n",
       "       [0., 0., 0., ..., 0., 0., 0.],\n",
       "       [0., 0., 0., ..., 0., 0., 0.],\n",
       "       [0., 0., 0., ..., 0., 0., 0.]])"
      ]
     },
     "execution_count": 10,
     "metadata": {
      "tags": []
     },
     "output_type": "execute_result"
    }
   ],
   "source": [
    "svc.support_vectors_ #给出各支持向量具体是哪些"
   ]
  },
  {
   "cell_type": "code",
   "execution_count": null,
   "metadata": {
    "colab": {
     "base_uri": "https://localhost:8080/",
     "height": 282
    },
    "id": "hKu9DvXXGzyy",
    "outputId": "13088aeb-d369-4b86-f6b8-c3f1791055c4"
   },
   "outputs": [
    {
     "data": {
      "text/plain": [
       "<matplotlib.image.AxesImage at 0x7f195094c828>"
      ]
     },
     "execution_count": 11,
     "metadata": {
      "tags": []
     },
     "output_type": "execute_result"
    },
    {
     "data": {
      "image/png": "[encoded data removed]",
      "text/plain": [
       "<Figure size 432x288 with 1 Axes>"
      ]
     },
     "metadata": {
      "needs_background": "light",
      "tags": []
     },
     "output_type": "display_data"
    }
   ],
   "source": [
    "import matplotlib\n",
    "import matplotlib.pyplot as plt\n",
    "digit_9 = svc.support_vectors_[2000] #举个例子，第2000个支持向量\n",
    "digit_9_image = digit_9.reshape(28, 28)\n",
    "plt.imshow(digit_9_image, cmap = matplotlib.cm.binary,interpolation=\"nearest\")"
   ]
  },
  {
   "cell_type": "code",
   "execution_count": null,
   "metadata": {
    "colab": {
     "base_uri": "https://localhost:8080/",
     "height": 282
    },
    "id": "abW2CL1CG06q",
    "outputId": "a024fb58-a65b-4d2a-b16b-a99c27208d7e"
   },
   "outputs": [
    {
     "data": {
      "text/plain": [
       "<matplotlib.image.AxesImage at 0x7f1947408550>"
      ]
     },
     "execution_count": 12,
     "metadata": {
      "tags": []
     },
     "output_type": "execute_result"
    },
    {
     "data": {
      "image/png": "[encoded data removed]",
      "text/plain": [
       "<Figure size 432x288 with 1 Axes>"
      ]
     },
     "metadata": {
      "needs_background": "light",
      "tags": []
     },
     "output_type": "display_data"
    }
   ],
   "source": [
    "import cv2\n",
    "img = digit_9_image\n",
    "rows,cols = img.shape\n",
    "# 平移矩阵M：[[1,0,x],[0,1,y]]\n",
    "M = np.float32([[1,0,1],[0,1,0]]) #把第2000个支持向量向右平移了一个像素\n",
    "dst = cv2.warpAffine(img,M,(cols,rows))\n",
    "plt.imshow(dst, cmap = matplotlib.cm.binary,interpolation=\"nearest\")"
   ]
  },
  {
   "cell_type": "markdown",
   "metadata": {
    "id": "iKd45st-HYzV"
   },
   "source": [
    "\n",
    "We then generated new training data by translating the resulting support vectors by one pixel in each of four directions, and trained a new machine (using the same parameters)."
   ]
  },
  {
   "cell_type": "code",
   "execution_count": null,
   "metadata": {
    "id": "xJGpomgGG2tQ"
   },
   "outputs": [],
   "source": [
    "VSV=[]\n",
    "VSV_y=[]\n",
    "for i in range(svc.support_vectors_.shape[0]):\n",
    "  digit_i = svc.support_vectors_[i]\n",
    "  digit_i_image = digit_i.reshape(28, 28)\n",
    "  M1 = np.float32([[1,0,1],[0,1,0]]) #向右平移了一个像素\n",
    "  M2 = np.float32([[1,0,0],[0,1,1]]) #向上平移了一个像素\n",
    "  M3 = np.float32([[1,0,-1],[0,1,0]]) #向左平移了一个像素\n",
    "  M4 = np.float32([[1,0,0],[0,1,-1]]) #向下平移了一个像素\n",
    "  dst1 = cv2.warpAffine(digit_i_image,M1,(cols,rows)).reshape(784,)\n",
    "  dst2 = cv2.warpAffine(digit_i_image,M2,(cols,rows)).reshape(784,)\n",
    "  dst3 = cv2.warpAffine(digit_i_image,M3,(cols,rows)).reshape(784,)\n",
    "  dst4 = cv2.warpAffine(digit_i_image,M4,(cols,rows)).reshape(784,)\n",
    "  VSV.append(dst1)\n",
    "  VSV.append(dst2)\n",
    "  VSV.append(dst3)\n",
    "  VSV.append(dst4)\n",
    "  if i < 1877:\n",
    "    VSV_y.append(False)\n",
    "    VSV_y.append(False)\n",
    "    VSV_y.append(False)\n",
    "    VSV_y.append(False)\n",
    "  else:\n",
    "    VSV_y.append(True)\n",
    "    VSV_y.append(True)\n",
    "    VSV_y.append(True)\n",
    "    VSV_y.append(True)"
   ]
  },
  {
   "cell_type": "code",
   "execution_count": null,
   "metadata": {
    "id": "3G1XTiK1G5P7"
   },
   "outputs": [],
   "source": [
    "import pandas as pd\n",
    "VSV = pd.DataFrame(VSV)\n",
    "VSV_y = pd.DataFrame(VSV_y)"
   ]
  },
  {
   "cell_type": "code",
   "execution_count": null,
   "metadata": {
    "id": "DE2RkyZeG6YT"
   },
   "outputs": [],
   "source": [
    "svc = SVC(C=10, kernel='poly', gamma='auto')\n",
    "svc.fit(VSV, VSV_y)\n",
    "y_pred_VSV = svc.predict(X_test)"
   ]
  },
  {
   "cell_type": "code",
   "execution_count": null,
   "metadata": {
    "colab": {
     "base_uri": "https://localhost:8080/",
     "height": 202
    },
    "id": "3gVHrc6AG7Pq",
    "outputId": "2f8f2502-eee2-428f-ef86-9666b37862cc"
   },
   "outputs": [
    {
     "name": "stdout",
     "output_type": "stream",
     "text": [
      "              precision    recall  f1-score   support\n",
      "\n",
      "       False       1.00      1.00      1.00      8991\n",
      "        True       0.98      0.97      0.98      1009\n",
      "\n",
      "    accuracy                           0.99     10000\n",
      "   macro avg       0.99      0.98      0.99     10000\n",
      "weighted avg       0.99      0.99      0.99     10000\n",
      "\n",
      "number of error: 50\n",
      "number of vector support: 6666\n"
     ]
    }
   ],
   "source": [
    "print(classification_report(y_test_9, y_pred_VSV))\n",
    "print(\"number of error:\",confusion_matrix(y_test_9, y_pred_VSV)[0,1]+confusion_matrix(y_test_9, y_pred_VSV)[1,0])\n",
    "print(\"number of vector support:\",svc.n_support_[0]+svc.n_support_[1])"
   ]
  },
  {
   "cell_type": "markdown",
   "metadata": {
    "id": "ZTsrSiDiQmpF"
   },
   "source": [
    "We can see that the number of errors has decreased (at frist 59 and now 50), but the number of support vectors has increased significantly. So although the performance has improved, the running speed has dropped."
   ]
  }
 ],
 "metadata": {
  "colab": {
   "collapsed_sections": [],
   "name": "AOS1-HW3.ipynb",
   "provenance": []
  },
  "kernelspec": {
   "display_name": "Python 3",
   "language": "python",
   "name": "python3"
  },
  "language_info": {
   "codemirror_mode": {
    "name": "ipython",
    "version": 3
   },
   "file_extension": ".py",
   "mimetype": "text/x-python",
   "name": "python",
   "nbconvert_exporter": "python",
   "pygments_lexer": "ipython3",
   "version": "3.7.3"
  }
 },
 "nbformat": 4,
 "nbformat_minor": 1
}
