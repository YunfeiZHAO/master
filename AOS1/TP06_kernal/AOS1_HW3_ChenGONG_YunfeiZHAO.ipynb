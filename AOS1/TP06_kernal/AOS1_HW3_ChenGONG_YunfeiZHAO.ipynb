{
  "nbformat": 4,
  "nbformat_minor": 0,
  "metadata": {
    "colab": {
      "name": "AOS1-HW3-ChenGONG_YunfeiZHAO.ipynb",
      "provenance": [],
      "collapsed_sections": []
    },
    "kernelspec": {
      "name": "python3",
      "display_name": "Python 3"
    }
  },
  "cells": [
    {
      "cell_type": "markdown",
      "metadata": {
        "id": "wtgBMJugHIwb"
      },
      "source": [
        "# Improving the Accuracy of Support Vector Machines\n",
        "\n",
        "AOS1 homework3\n",
        "\n",
        "author:\n",
        "Chen GONG\n",
        "Yunfei ZHAO\n",
        "\n",
        "date:\n",
        "19/oct/2020"
      ]
    },
    {
      "cell_type": "markdown",
      "metadata": {
        "id": "-Oe4ms-CHNPt"
      },
      "source": [
        "## Introduction\n",
        "This homework is an analyse of improving SVM classifier accuracy in handwritten digits classification mission.\n",
        "\n",
        "* We improve model accuracy by incorporating knowledge about invariances of the problem.(pixel jittered in our case)\n",
        "\n",
        "* The data set contains 10 types of handwritten digit pictures from 0-9, and each picture is normalized to a size of 28x28. The data we need is downloaded from this website: http://yann.lecun.com/exdb/mnist/ . We get 4 files, then decompress them and put them in a folder with this file.\n",
        "* We inplemented the algorithm in paper:\n",
        "Chris J.C. Burges and Bernhard Schölkopf. “Improving the Accuracy and Speed of Support Vector Machines”. In: Advances in Neural Information Processing Systems 9. MIT Press, 1997, pp. 375–381.\n",
        "\n",
        "\n"
      ]
    },
    {
      "cell_type": "markdown",
      "metadata": {
        "id": "zxA4GABhGTF-"
      },
      "source": [
        "All the libraries we use are as follows:"
      ]
    },
    {
      "cell_type": "code",
      "metadata": {
        "id": "YcIRz5UBNzw_"
      },
      "source": [
        "import matplotlib\n",
        "import matplotlib.pyplot as plt\n",
        "import struct\n",
        "import numpy as np\n",
        "import time\n",
        "from sklearn.svm import SVC\n",
        "from sklearn.metrics import confusion_matrix\n",
        "from sklearn.metrics import classification_report\n",
        "import cv2\n",
        "import pandas as pd"
      ],
      "execution_count": null,
      "outputs": []
    },
    {
      "cell_type": "code",
      "metadata": {
        "id": "spRGaJ_lGi5W"
      },
      "source": [
        "# Data processing\n",
        "\n",
        "def read_image(file_name):\n",
        "    #First read the files in binary mode\n",
        "    file_handle=open(file_name,\"rb\")  \n",
        "    file_content=file_handle.read()   \n",
        "    offset=0\n",
        "    head = struct.unpack_from('>IIII', file_content, offset)  \n",
        "    offset += struct.calcsize('>IIII')\n",
        "    imgNum = head[1]  #Number of pictures\n",
        "    rows = head[2]   #width\n",
        "    cols = head[3]  #height\n",
        "    images=np.empty((imgNum , 784))\n",
        "    image_size=rows*cols  #size of one picture\n",
        "    fmt='>' + str(image_size) + 'B' #format of one picture\n",
        "\n",
        "    for i in range(imgNum):\n",
        "        images[i] = np.array(struct.unpack_from(fmt, file_content, offset))\n",
        "        # images[i] = np.array(struct.unpack_from(fmt, file_content, offset)).reshape((rows, cols))\n",
        "        offset += struct.calcsize(fmt)\n",
        "    return images\n",
        "\n",
        "#read the label of picture\n",
        "def read_label(file_name):\n",
        "    file_handle = open(file_name, \"rb\")  \n",
        "    file_content = file_handle.read()  \n",
        "\n",
        "    head = struct.unpack_from('>II', file_content, 0)  \n",
        "    offset = struct.calcsize('>II')\n",
        "\n",
        "    labelNum = head[1]  \n",
        "    # print(labelNum)\n",
        "    bitsString = '>' + str(labelNum) + 'B'  \n",
        "    label = struct.unpack_from(bitsString, file_content, offset)  \n",
        "    return np.array(label)\n",
        "\n",
        "def normalize_0_1(data):\n",
        "    data[data > 0] = 1\n",
        "    return data\n",
        "\n",
        "def loadDataSet():\n",
        "    train_x_filename=\"train-images.idx3-ubyte\"\n",
        "    train_y_filename=\"train-labels.idx1-ubyte\"\n",
        "    test_x_filename=\"t10k-images.idx3-ubyte\"\n",
        "    test_y_filename=\"t10k-labels.idx1-ubyte\"\n",
        "    train_x=read_image(train_x_filename)#60000*784 \n",
        "    train_y=read_label(train_y_filename)#60000*1\n",
        "    test_x=read_image(test_x_filename)#10000*784\n",
        "    test_y=read_label(test_y_filename)#10000*1\n",
        "\n",
        "    return train_x, test_x, train_y, test_y"
      ],
      "execution_count": null,
      "outputs": []
    },
    {
      "cell_type": "code",
      "metadata": {
        "id": "m-EjqtdeOLLj",
        "outputId": "8051ca92-3176-442a-e04d-09722f2bedcf",
        "colab": {
          "base_uri": "https://localhost:8080/",
          "height": 50
        }
      },
      "source": [
        "X_train, X_test, y_train, y_test=loadDataSet()\n",
        "# nomalise X to 0 and 1\n",
        "# X_train = normalize_0_1(X_train)\n",
        "# X_test = normalize_0_1(X_test)\n",
        "print(X_train.shape)\n",
        "print(X_test.shape)"
      ],
      "execution_count": null,
      "outputs": [
        {
          "output_type": "stream",
          "text": [
            "(60000, 784)\n",
            "(10000, 784)\n"
          ],
          "name": "stdout"
        }
      ]
    },
    {
      "cell_type": "code",
      "metadata": {
        "id": "GS9UGaEdNtFo",
        "outputId": "112b2112-4081-439f-f2ac-9adfda010a21",
        "colab": {
          "base_uri": "https://localhost:8080/",
          "height": 282
        }
      },
      "source": [
        "# An example of our X\n",
        "plt.imshow(X_train[1,:].reshape(28,28))"
      ],
      "execution_count": null,
      "outputs": [
        {
          "output_type": "execute_result",
          "data": {
            "text/plain": [
              "<matplotlib.image.AxesImage at 0x7fdae5befe80>"
            ]
          },
          "metadata": {
            "tags": []
          },
          "execution_count": 51
        },
        {
          "output_type": "display_data",
          "data": {
            "image/png": "[encoded data removed]",
            "text/plain": [
              "<Figure size 432x288 with 1 Axes>"
            ]
          },
          "metadata": {
            "tags": [],
            "needs_background": "light"
          }
        }
      ]
    },
    {
      "cell_type": "markdown",
      "metadata": {
        "id": "6Ztt4cFvHbRO"
      },
      "source": [
        "## Missions\n",
        "* Do the classification of digit '9' by tradiction SVM with hyperparameters provided by paper\n",
        "* Implement the  1-pixel jittered model proposed by the paper, and test the performance of this performance on digit '9'\n",
        "* Compare the performance (accuracy) of these two models\n",
        "* Explanation of the observation"
      ]
    },
    {
      "cell_type": "markdown",
      "metadata": {
        "id": "lcVP2o-uWUcH"
      },
      "source": [
        "## Test with traditional SVM with cofiguration given by the paper\n",
        "As suggested in the paper，the parameters correspond to model ORIG \n",
        "* kernal: polynomial kernel $K(x, y) = (x·y)^5$\n",
        "* C =10"
      ]
    },
    {
      "cell_type": "markdown",
      "metadata": {
        "id": "RjIV-ZG_HRbI"
      },
      "source": [
        "To build a ten-class classifier, this procedure is carried out separately for ten binary classifiers. The following is an example for digit 0.\n",
        "\n"
      ]
    },
    {
      "cell_type": "code",
      "metadata": {
        "id": "Fiat3XOjd6ag"
      },
      "source": [
        "y_train_0 = (y_train == 0) # True for all 9s, False for all other digits.\n",
        "y_test_0 = (y_test == 0)\n",
        "\n",
        "svc = SVC(C=10, kernel='poly', degree=5)\n",
        "svc.fit(X_train, y_train_0)\n",
        "y_pred_0 = svc.predict(X_test)"
      ],
      "execution_count": null,
      "outputs": []
    },
    {
      "cell_type": "code",
      "metadata": {
        "id": "liW_prNpGy-V",
        "outputId": "bfe8ad2a-4972-4788-f875-b15658457d55",
        "colab": {
          "base_uri": "https://localhost:8080/",
          "height": 202
        }
      },
      "source": [
        "print(classification_report(y_test_0, y_pred_0))\n",
        "print(\"number of error for digit 0:\",confusion_matrix(y_test_0, y_pred_0)[0,1]+confusion_matrix(y_test_0, y_pred_0)[1,0])\n",
        "print(\"number of vector support for digit 0:\",svc.n_support_[0]+svc.n_support_[1])"
      ],
      "execution_count": null,
      "outputs": [
        {
          "output_type": "stream",
          "text": [
            "              precision    recall  f1-score   support\n",
            "\n",
            "       False       1.00      1.00      1.00      9020\n",
            "        True       0.99      0.99      0.99       980\n",
            "\n",
            "    accuracy                           1.00     10000\n",
            "   macro avg       0.99      0.99      0.99     10000\n",
            "weighted avg       1.00      1.00      1.00     10000\n",
            "\n",
            "number of error for digit 0: 23\n",
            "number of vector support for digit 0: 1790\n"
          ],
          "name": "stdout"
        }
      ]
    },
    {
      "cell_type": "markdown",
      "metadata": {
        "id": "jyKre5zczgM8"
      },
      "source": [
        "In the paper, they create 10 classifier for 0-9 and in their result, digit '9' had the worst result(white when apply their method, the result has a big improve, so this choice is a little bit arbitrary). To simplify our mission, we will create only one classifier for digital '9'. Because The object of this homework is to analyse their method to improve the performance of SVM. So create 9 classifier and combine them to do the classification of 10 digits is not the most important part. For the digit classification method, we can realise this by doing the classification of one digit on these 10 classifiers and if the result is positive for several classifiers, we can compare the  estimated probability to chose which digit it is classified. But this process take long time. For us, training a tradition model and doing the prediction will take 30 minutes  and training a pixel jittered model and doing the prediction will take 60 minutes. As a matter of fact, for  pixel jittered model, we need to do the training process two times on the original dataset and new generated dataset by moving support vectors of the first model respectively  and also with more support vectors, the process for prediction is longer. So we need totally more then 900 minutes.  As we know that the core object to this homework is to analyse the improvement of  model accuracy by incorporating knowledge about invariances of the problem. We decide to take only the classifier of digit '9' as an example."
      ]
    },
    {
      "cell_type": "code",
      "metadata": {
        "id": "xlF6V2tvdz8o"
      },
      "source": [
        "y_train_9 = (y_train == 9) # True for all 9s, False for all other digits.\n",
        "y_test_9 = (y_test == 9)\n",
        "\n",
        "svc = SVC(C=10, kernel='poly', degree=5)\n",
        "svc.fit(X_train, y_train_9)\n",
        "y_pred_9 = svc.predict(X_test)"
      ],
      "execution_count": null,
      "outputs": []
    },
    {
      "cell_type": "code",
      "metadata": {
        "id": "ec0FVIhvGwg_",
        "outputId": "894ce7c1-7527-4a49-965c-f051e12e0d98",
        "colab": {
          "base_uri": "https://localhost:8080/",
          "height": 202
        }
      },
      "source": [
        "print(classification_report(y_test_9, y_pred_9))\n",
        "print(\"number of error for digit 9:\",confusion_matrix(y_test_9, y_pred_9)[0,1]+confusion_matrix(y_test_9, y_pred_9)[1,0])\n",
        "print(\"number of vector support for digit 9:\",svc.n_support_[0]+svc.n_support_[1])"
      ],
      "execution_count": null,
      "outputs": [
        {
          "output_type": "stream",
          "text": [
            "              precision    recall  f1-score   support\n",
            "\n",
            "       False       0.99      1.00      1.00      8991\n",
            "        True       0.98      0.94      0.96      1009\n",
            "\n",
            "    accuracy                           0.99     10000\n",
            "   macro avg       0.98      0.97      0.98     10000\n",
            "weighted avg       0.99      0.99      0.99     10000\n",
            "\n",
            "number of error for digit 9: 83\n",
            "number of vector support for digit 9: 3721\n"
          ],
          "name": "stdout"
        }
      ]
    },
    {
      "cell_type": "markdown",
      "metadata": {
        "id": "M985OUwDzjx_"
      },
      "source": [
        "Considering that the values in the data set y (the set of results) are True and False, we want to know if changing them to 0 and 1 will affect performance."
      ]
    },
    {
      "cell_type": "code",
      "metadata": {
        "id": "WU78J3Syltq4"
      },
      "source": [
        "y_train_9 = (y_train == 9)*1\n",
        "y_test_9 = (y_test == 9)*1\n",
        "\n",
        "svc = SVC(C=10, kernel='poly', degree=5)\n",
        "svc.fit(X_train, y_train_9)\n",
        "y_pred_9 = svc.predict(X_test)"
      ],
      "execution_count": null,
      "outputs": []
    },
    {
      "cell_type": "code",
      "metadata": {
        "id": "5ndlsM-_yigT",
        "outputId": "d132cbbd-109f-4771-dd7d-b342e1d2c955",
        "colab": {
          "base_uri": "https://localhost:8080/",
          "height": 202
        }
      },
      "source": [
        "print(classification_report(y_test_9, y_pred_9))\n",
        "print(\"If all values = 0 and 1, number of error for digit 9:\",confusion_matrix(y_test_9, y_pred_9)[0,1]+confusion_matrix(y_test_9, y_pred_9)[1,0])\n",
        "print(\"number of vector support for digit 9:\",svc.n_support_[0]+svc.n_support_[1])"
      ],
      "execution_count": null,
      "outputs": [
        {
          "output_type": "stream",
          "text": [
            "              precision    recall  f1-score   support\n",
            "\n",
            "           0       0.99      1.00      1.00      8991\n",
            "           1       0.98      0.94      0.96      1009\n",
            "\n",
            "    accuracy                           0.99     10000\n",
            "   macro avg       0.98      0.97      0.98     10000\n",
            "weighted avg       0.99      0.99      0.99     10000\n",
            "\n",
            "If all values = 0 and 1, number of error for digit 9: 83\n",
            "number of vector support for digit 9: 3721\n"
          ],
          "name": "stdout"
        }
      ]
    },
    {
      "cell_type": "markdown",
      "metadata": {
        "id": "HVbx2T3X2JL7"
      },
      "source": [
        "The result is not affected."
      ]
    },
    {
      "cell_type": "markdown",
      "metadata": {
        "id": "olq1lvOJHP1y"
      },
      "source": [
        "## The method for improving generalization performance (the \"virtual support vector\" method)\n",
        "\n",
        "1. Train an SVM to generate a set of support vectors $\\{S_1,...,S_n\\}$  \n",
        "\n",
        "2.  Generate the artificial examples *(virtual support vectors)* by applying the desired invariance transformations to $\\{S_1,...,S_n\\}$. In our case, we take the points of support vectors. For each point we generate four new points by moving this point to up one pixel, down one pixel, left one pixel and right one pixel. We take these new points to create a new dataset which is 4 times of the old support vector set's size. (We will also do a comparsion to see if the result is better when include the points of old support vectors in the new dataset)\n",
        "\n",
        "3. Train new SVM model on the new dataset\n",
        "\n",
        " "
      ]
    },
    {
      "cell_type": "markdown",
      "metadata": {
        "id": "Mi4l9F2qCvQS"
      },
      "source": [
        "An example of translation"
      ]
    },
    {
      "cell_type": "code",
      "metadata": {
        "id": "hKu9DvXXGzyy",
        "outputId": "13088aeb-d369-4b86-f6b8-c3f1791055c4",
        "colab": {
          "base_uri": "https://localhost:8080/",
          "height": 282
        }
      },
      "source": [
        "digit_9 = svc.support_vectors_[2000] #For example, the 2000th support vector\n",
        "digit_9_image = digit_9.reshape(28, 28)\n",
        "plt.imshow(digit_9_image, cmap = matplotlib.cm.binary,interpolation=\"nearest\")"
      ],
      "execution_count": null,
      "outputs": [
        {
          "output_type": "execute_result",
          "data": {
            "text/plain": [
              "<matplotlib.image.AxesImage at 0x7f195094c828>"
            ]
          },
          "metadata": {
            "tags": []
          },
          "execution_count": 11
        },
        {
          "output_type": "display_data",
          "data": {
            "image/png": "[encoded data removed]",
            "text/plain": [
              "<Figure size 432x288 with 1 Axes>"
            ]
          },
          "metadata": {
            "tags": [],
            "needs_background": "light"
          }
        }
      ]
    },
    {
      "cell_type": "code",
      "metadata": {
        "id": "abW2CL1CG06q",
        "outputId": "a024fb58-a65b-4d2a-b16b-a99c27208d7e",
        "colab": {
          "base_uri": "https://localhost:8080/",
          "height": 282
        }
      },
      "source": [
        "img = digit_9_image\n",
        "rows,cols = img.shape\n",
        "# Translation matrix M: [[1,0,x],[0,1,y]]\n",
        "M = np.float32([[1,0,1],[0,1,0]]) #Shift the 2000th support vector by one pixel to the right\n",
        "dst = cv2.warpAffine(img,M,(cols,rows))\n",
        "plt.imshow(dst, cmap = matplotlib.cm.binary,interpolation=\"nearest\")"
      ],
      "execution_count": null,
      "outputs": [
        {
          "output_type": "execute_result",
          "data": {
            "text/plain": [
              "<matplotlib.image.AxesImage at 0x7f1947408550>"
            ]
          },
          "metadata": {
            "tags": []
          },
          "execution_count": 12
        },
        {
          "output_type": "display_data",
          "data": {
            "image/png": "[encoded data removed]",
            "text/plain": [
              "<Figure size 432x288 with 1 Axes>"
            ]
          },
          "metadata": {
            "tags": [],
            "needs_background": "light"
          }
        }
      ]
    },
    {
      "cell_type": "markdown",
      "metadata": {
        "id": "iKd45st-HYzV"
      },
      "source": [
        "\n",
        "We then generated new training data by translating the resulting support vectors by one pixel in each of four directions, and trained a new machine (using the same parameters)."
      ]
    },
    {
      "cell_type": "code",
      "metadata": {
        "id": "xJGpomgGG2tQ"
      },
      "source": [
        "VSV=[]\n",
        "VSV_y=[]\n",
        "for i in range(svc.support_vectors_.shape[0]):\n",
        "  digit_i = svc.support_vectors_[i]\n",
        "  digit_i_image = digit_i.reshape(28, 28)\n",
        "  rows,cols = digit_i_image.shape\n",
        "  M1 = np.float32([[1,0,1],[0,1,0]]) #Shifted one pixel to the right\n",
        "  M2 = np.float32([[1,0,0],[0,1,1]]) ##Shifted one pixel up\n",
        "  M3 = np.float32([[1,0,-1],[0,1,0]]) #Shifted one pixel to the left\n",
        "  M4 = np.float32([[1,0,0],[0,1,-1]]) ##Shifted one pixel down\n",
        "  dst1 = cv2.warpAffine(digit_i_image,M1,(cols,rows)).reshape(784,)\n",
        "  dst2 = cv2.warpAffine(digit_i_image,M2,(cols,rows)).reshape(784,)\n",
        "  dst3 = cv2.warpAffine(digit_i_image,M3,(cols,rows)).reshape(784,)\n",
        "  dst4 = cv2.warpAffine(digit_i_image,M4,(cols,rows)).reshape(784,)\n",
        "  VSV.append(dst1)\n",
        "  VSV.append(dst2)\n",
        "  VSV.append(dst3)\n",
        "  VSV.append(dst4)\n",
        "  if i < svc.n_support_[0]:\n",
        "    VSV_y.append(False)\n",
        "    VSV_y.append(False)\n",
        "    VSV_y.append(False)\n",
        "    VSV_y.append(False)\n",
        "  else:\n",
        "    VSV_y.append(True)\n",
        "    VSV_y.append(True)\n",
        "    VSV_y.append(True)\n",
        "    VSV_y.append(True)\n",
        "VSV = pd.DataFrame(VSV)\n",
        "VSV_y = pd.DataFrame(VSV_y)"
      ],
      "execution_count": null,
      "outputs": []
    },
    {
      "cell_type": "code",
      "metadata": {
        "id": "RvNA29oVeARR",
        "outputId": "5143a0ac-8e48-43a6-b0c5-c2c12b901c51",
        "colab": {
          "base_uri": "https://localhost:8080/",
          "height": 50
        }
      },
      "source": [
        "svc = SVC(C=10, kernel='poly', gamma='auto', degree=5)\n",
        "svc.fit(VSV, VSV_y)\n",
        "y_pred_VSV = svc.predict(X_test)"
      ],
      "execution_count": null,
      "outputs": [
        {
          "output_type": "stream",
          "text": [
            "/usr/local/lib/python3.6/dist-packages/sklearn/utils/validation.py:760: DataConversionWarning: A column-vector y was passed when a 1d array was expected. Please change the shape of y to (n_samples, ), for example using ravel().\n",
            "  y = column_or_1d(y, warn=True)\n"
          ],
          "name": "stderr"
        }
      ]
    },
    {
      "cell_type": "code",
      "metadata": {
        "id": "3gVHrc6AG7Pq",
        "outputId": "2f8f2502-eee2-428f-ef86-9666b37862cc",
        "colab": {
          "base_uri": "https://localhost:8080/",
          "height": 202
        }
      },
      "source": [
        "print(classification_report(y_test_9, y_pred_VSV))\n",
        "print(\"number of error after victual method for digit 9:\",confusion_matrix(y_test_9, y_pred_VSV)[0,1]+confusion_matrix(y_test_9, y_pred_VSV)[1,0])\n",
        "print(\"number of vector support after victual method for digit 9:\",svc.n_support_[0]+svc.n_support_[1])"
      ],
      "execution_count": null,
      "outputs": [
        {
          "output_type": "stream",
          "text": [
            "              precision    recall  f1-score   support\n",
            "\n",
            "       False       1.00      1.00      1.00      8991\n",
            "        True       0.98      0.97      0.98      1009\n",
            "\n",
            "    accuracy                           0.99     10000\n",
            "   macro avg       0.99      0.98      0.99     10000\n",
            "weighted avg       0.99      0.99      0.99     10000\n",
            "\n",
            "number of error: 50\n",
            "number of vector support: 6666\n"
          ],
          "name": "stdout"
        }
      ]
    },
    {
      "cell_type": "code",
      "metadata": {
        "id": "Q7lK7zFrJB6J"
      },
      "source": [
        "x = np.arange(3)\n",
        "nerror = [83, 50, 59]\n",
        "nsv = [3721, 6666, 8747]"
      ],
      "execution_count": 9,
      "outputs": []
    },
    {
      "cell_type": "code",
      "metadata": {
        "id": "rD19TznQJJ-r",
        "outputId": "289c2938-77f3-4c8c-9813-50f5526710f3",
        "colab": {
          "base_uri": "https://localhost:8080/",
          "height": 265
        }
      },
      "source": [
        "plt.bar(x, nerror)\n",
        "plt.xticks(x, ('ORIG', 'VSV', 'VSV with old SV'))\n",
        "plt.ylabel('number of wrong prediction')\n",
        "plt.show()"
      ],
      "execution_count": 10,
      "outputs": [
        {
          "output_type": "display_data",
          "data": {
            "image/png": "[encoded data removed]",
            "text/plain": [
              "<Figure size 432x288 with 1 Axes>"
            ]
          },
          "metadata": {
            "tags": [],
            "needs_background": "light"
          }
        }
      ]
    },
    {
      "cell_type": "code",
      "metadata": {
        "id": "Nl4iyP0kJfRw",
        "outputId": "87d29a57-41ba-4d00-9562-b812ad6a393a",
        "colab": {
          "base_uri": "https://localhost:8080/",
          "height": 265
        }
      },
      "source": [
        "plt.bar(x, nsv)\n",
        "plt.xticks(x, ('ORIG', 'VSV', 'VSV with old SV'))\n",
        "plt.ylabel('number of support vectors')\n",
        "plt.show()"
      ],
      "execution_count": 11,
      "outputs": [
        {
          "output_type": "display_data",
          "data": {
            "image/png": "[encoded data removed]",
            "text/plain": [
              "<Figure size 432x288 with 1 Axes>"
            ]
          },
          "metadata": {
            "tags": [],
            "needs_background": "light"
          }
        }
      ]
    },
    {
      "cell_type": "markdown",
      "metadata": {
        "id": "cqaNSgOPIBA9"
      },
      "source": [
        "## Explaination of the result\n",
        "\n",
        "We can see that the number of errors has decreased with the same test data set (at first 83 on the traditional SVM model and now 50 on the new SVM model trained on new dataset), but the number of support vectors has increased significantly(from 3721 to 6666). Although the performance has improved, the running speed has dropped.\n",
        "\n",
        "For performance improvement, we considered two reasons:\n",
        "\n",
        "1. For SVM, only model is only depends on the support vectors. So the information we get from the dataset is all saved in these support vectors. So these support vectors is the known invariant of the problems. And we used these know invariant to generate more data which make the model more robust and resist to the noise. Because we use the knowledge we know to provide more data to our model. For example we use 6000 samples to generate 3721 suport vector and if we want to genrate these new 6666 data, we may use more than 12000 samples and all these 3721 * 4 new point generated by old support vectors are useful because the are no far from the margin lines. So this is a kind of data augmentation by invariant known knowledge.\n",
        "\n",
        "2. As the quality of the training set becomes higher, because each vector of the new training set is changed from the support vector of the traditional method, they better than raw samples.\n",
        "\n",
        "3. As we have more support vectors, the variance of the model is lower than before, it will be less influenced by noise during the prediction. "
      ]
    },
    {
      "cell_type": "markdown",
      "metadata": {
        "id": "fG7C-s-tIcjW"
      },
      "source": [
        "## What if we include points of old support vector in new dataset\n",
        "From the result, we can observe that the number of support vector is getting bigger and the performance is worst than the model without the old vector. We think maybe with too many points of support vectors, it got a overfitting problem."
      ]
    },
    {
      "cell_type": "code",
      "metadata": {
        "id": "rNUbR1fR2UKr"
      },
      "source": [
        "VSV=[]\n",
        "VSV_y=[]\n",
        "for i in range(svc.support_vectors_.shape[0]):\n",
        "  digit_i = svc.support_vectors_[i]\n",
        "  digit_i_image = digit_i.reshape(28, 28)\n",
        "  rows,cols = digit_i_image.shape\n",
        "  M1 = np.float32([[1,0,1],[0,1,0]]) #Shifted one pixel to the right\n",
        "  M2 = np.float32([[1,0,0],[0,1,1]]) ##Shifted one pixel up\n",
        "  M3 = np.float32([[1,0,-1],[0,1,0]]) #Shifted one pixel to the left\n",
        "  M4 = np.float32([[1,0,0],[0,1,-1]]) ##Shifted one pixel down\n",
        "  dst1 = cv2.warpAffine(digit_i_image,M1,(cols,rows)).reshape(784,)\n",
        "  dst2 = cv2.warpAffine(digit_i_image,M2,(cols,rows)).reshape(784,)\n",
        "  dst3 = cv2.warpAffine(digit_i_image,M3,(cols,rows)).reshape(784,)\n",
        "  dst4 = cv2.warpAffine(digit_i_image,M4,(cols,rows)).reshape(784,)\n",
        "  VSV.append(dst1)\n",
        "  VSV.append(dst2)\n",
        "  VSV.append(dst3)\n",
        "  VSV.append(dst4)\n",
        "  VSV.append(digit_i)\n",
        "  if i < svc.n_support_[0]:\n",
        "    VSV_y.append(False)\n",
        "    VSV_y.append(False)\n",
        "    VSV_y.append(False)\n",
        "    VSV_y.append(False)\n",
        "    VSV_y.append(False)\n",
        "  else:\n",
        "    VSV_y.append(True)\n",
        "    VSV_y.append(True)\n",
        "    VSV_y.append(True)\n",
        "    VSV_y.append(True)\n",
        "    VSV_y.append(True)\n",
        "VSV = pd.DataFrame(VSV)\n",
        "VSV_y = pd.DataFrame(VSV_y)"
      ],
      "execution_count": null,
      "outputs": []
    },
    {
      "cell_type": "code",
      "metadata": {
        "id": "Tuon4lC526W3",
        "outputId": "04159f17-b58b-4005-afee-18adb06f4e89",
        "colab": {
          "base_uri": "https://localhost:8080/",
          "height": 70
        }
      },
      "source": [
        "svc = SVC(C=10, kernel='poly', gamma='auto', degree=5)\n",
        "svc.fit(VSV, VSV_y)\n",
        "y_pred_VSV = svc.predict(X_test)"
      ],
      "execution_count": null,
      "outputs": [
        {
          "output_type": "stream",
          "text": [
            "/usr/local/lib/python3.6/dist-packages/sklearn/utils/validation.py:760: DataConversionWarning: A column-vector y was passed when a 1d array was expected. Please change the shape of y to (n_samples, ), for example using ravel().\n",
            "  y = column_or_1d(y, warn=True)\n"
          ],
          "name": "stderr"
        }
      ]
    },
    {
      "cell_type": "code",
      "metadata": {
        "id": "LYE3caRk2-ZN",
        "outputId": "8754df07-292b-432e-ff23-1af2493a2aed",
        "colab": {
          "base_uri": "https://localhost:8080/",
          "height": 202
        }
      },
      "source": [
        "print(classification_report(y_test_9, y_pred_VSV))\n",
        "print(\"If we add the original vector support to the new data set，number of error after victual method for digit 9:\",confusion_matrix(y_test_9, y_pred_VSV)[0,1]+confusion_matrix(y_test_9, y_pred_VSV)[1,0])\n",
        "print(\"number of vector support after victual method for digit 9:\",svc.n_support_[0]+svc.n_support_[1])"
      ],
      "execution_count": null,
      "outputs": [
        {
          "output_type": "stream",
          "text": [
            "              precision    recall  f1-score   support\n",
            "\n",
            "           0       1.00      1.00      1.00      8991\n",
            "           1       0.98      0.96      0.97      1009\n",
            "\n",
            "    accuracy                           0.99     10000\n",
            "   macro avg       0.99      0.98      0.98     10000\n",
            "weighted avg       0.99      0.99      0.99     10000\n",
            "\n",
            "If we add the original vector support to the new data set，number of error after victual method for digit 9: 59\n",
            "number of vector support after victual method for digit 9: 8747\n"
          ],
          "name": "stdout"
        }
      ]
    },
    {
      "cell_type": "markdown",
      "metadata": {
        "id": "SSIur5JIIFjp"
      },
      "source": [
        "## Conclusion\n",
        "\n",
        "The method of Burges and Schölkopf, virtual support vector, is an effective way to improve performance of SVM."
      ]
    },
    {
      "cell_type": "markdown",
      "metadata": {
        "id": "HTRZ9ZfLIHR5"
      },
      "source": [
        "## Go further\n",
        "During the experiment, we found some problems.\n",
        "1. For each data set, the difference between the number of positive and negative values is very large. Negative values are about nine times more than positive values. We think about whether this will affect the accuracy of the model, because for him, predicting a number as an error still has an accuracy of 90%. This explains to why in classification_report, all indicators of class False are better than those of class True\n",
        "2. When preprocessing data, we think about whether it should be normalized. Because the stroke marks on the edges of the numbers are lighter, if they are uniformly classified as 1 and the areas with no traces are classified as 0, performance may be affected.\n",
        "3. We consider whether we can more accurately describe the performance of the method if we test nine sets separately and integrate all the results. However, due to time constraints, each training set on our computer took 30 minutes (using the original SVM) to 60 minutes (using the virtual support vector), and we have no time to test all the sets."
      ]
    }
  ]
}