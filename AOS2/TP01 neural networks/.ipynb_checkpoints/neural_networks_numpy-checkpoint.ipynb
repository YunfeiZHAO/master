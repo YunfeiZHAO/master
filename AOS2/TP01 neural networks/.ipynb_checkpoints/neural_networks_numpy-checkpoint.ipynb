{
 "cells": [
  {
   "cell_type": "markdown",
   "metadata": {},
   "source": [
    "# Neural networks from scratch\n",
    "## Libraries and dataset"
   ]
  },
  {
   "cell_type": "code",
   "execution_count": null,
   "metadata": {
    "lines_to_next_cell": 1
   },
   "outputs": [],
   "source": [
    "import matplotlib.pyplot as plt\n",
    "from matplotlib.colors import ListedColormap\n",
    "import numpy as np\n",
    "from sklearn.datasets import make_moons\n",
    "X, y_ = make_moons(1000, noise=.2)\n",
    "y = y_[:, np.newaxis]\n",
    "cm_bright = ListedColormap(['#FF0000', '#0000FF'])\n",
    "plt.scatter(*X.T, c=y_, cmap=cm_bright)\n",
    "plt.show()"
   ]
  },
  {
   "cell_type": "markdown",
   "metadata": {},
   "source": [
    "## Activation functions\n",
    "ReLU and sigmoid function and their derivative (should work for any array (1D, 2D,...))"
   ]
  },
  {
   "cell_type": "code",
   "execution_count": null,
   "metadata": {},
   "outputs": [],
   "source": [
    "def relu(v):\n",
    "    raise NotImplementedError\n",
    "\n",
    "\n",
    "def drelu(v):\n",
    "    raise NotImplementedError\n",
    "\n",
    "\n",
    "def sigmoid(v):\n",
    "    raise NotImplementedError\n",
    "\n",
    "\n",
    "def dsigmoid(v):\n",
    "    raise NotImplementedError"
   ]
  },
  {
   "cell_type": "markdown",
   "metadata": {
    "lines_to_next_cell": 0
   },
   "source": [
    "## Defining the neural network\n",
    "First define the shape of the neural network: the size of input, hidden and output layers"
   ]
  },
  {
   "cell_type": "code",
   "execution_count": null,
   "metadata": {},
   "outputs": [],
   "source": [
    "n0 = 2\n",
    "n1 = 50\n",
    "n2 = 1"
   ]
  },
  {
   "cell_type": "markdown",
   "metadata": {},
   "source": [
    "Variables for weights, biases of each layers and intermediate\n",
    "variables to compute the gradient."
   ]
  },
  {
   "cell_type": "code",
   "execution_count": null,
   "metadata": {},
   "outputs": [],
   "source": [
    "# Weights\n",
    "W1 = np.random.randn(n0, n1)\n",
    "W2 = np.random.randn(n1, n2)\n",
    "\n",
    "# Biases\n",
    "b1 = np.random.randn(n1)\n",
    "b2 = np.random.randn(n2)\n",
    "\n",
    "# Partial derivatives w.r.t. activations (equation 2)\n",
    "Xx_1 = np.zeros((n2, n1))\n",
    "Xx_2 = np.zeros((n2, n2))\n",
    "\n",
    "# Partial derivatives w.r.t. biases (equation 1)\n",
    "Xb_1 = np.zeros((n2, n1))\n",
    "Xb_2 = np.zeros((n2, n2))\n",
    "\n",
    "# Partial derivatives w.r.t. weigths (equation 1)\n",
    "Xw_1 = np.zeros((n2, n1, n0))\n",
    "Xw_2 = np.zeros((n2, n2, n1))\n",
    "\n",
    "# Partial derivatives of loss w.r.t. weigths and biases (slide 30-31)\n",
    "Lw_1 = np.zeros((n1, n0))\n",
    "Lw_2 = np.zeros((n2, n1))\n",
    "Lb_1 = np.zeros(n1)\n",
    "Lb_2 = np.zeros(n2)"
   ]
  },
  {
   "cell_type": "markdown",
   "metadata": {},
   "source": [
    "Define the learning rate and the activation functions along their\n",
    "derivatives at each layer."
   ]
  },
  {
   "cell_type": "code",
   "execution_count": null,
   "metadata": {},
   "outputs": [],
   "source": [
    "raise NotImplementedError(\"Define eta, af1, daf1, af2, daf2\")"
   ]
  },
  {
   "cell_type": "markdown",
   "metadata": {},
   "source": [
    "## The learning loop"
   ]
  },
  {
   "cell_type": "code",
   "execution_count": null,
   "metadata": {},
   "outputs": [],
   "source": [
    "nepochs = 5\n",
    "for epoch in range(nepochs + 1):\n",
    "    for i, (x0, y2) in enumerate(zip(X, y)):\n",
    "\n",
    "        # Forward pass\n",
    "        raise NotImplementedError(\"Use W1, x0, b1, af1, W2, x1, b2, af2 to define z1, x1, z2, x2\")\n",
    "\n",
    "        if i % 100 == 0:\n",
    "            print(f\"Epoch: {epoch}, sample: {i}, class: {y2}, prob: {x2}\")\n",
    "\n",
    "        Xx_2 = __\n",
    "\n",
    "        # Update partial derivatives w.r.t. weights and biases on second layer\n",
    "        for i in range(n2):\n",
    "            for p in range(n2):\n",
    "                Xb_2[i, p] = __\n",
    "                for q in range(n1):\n",
    "                    Xw_2[i, p, q] = __\n",
    "\n",
    "        # Update partial derivatives w.r.t. activations\n",
    "        for i in range(n2):\n",
    "            for p in range(n1):\n",
    "                Xx_1[i, p] = 0\n",
    "                for j in range(n2):\n",
    "                    Xx_1[i, p] += __\n",
    "\n",
    "        # Update partial derivatives w.r.t. weights and biases on first layer\n",
    "        for i in range(n2):\n",
    "            for p in range(n1):\n",
    "                Xb_1[i, p] = __\n",
    "                for q in range(n0):\n",
    "                    Xw_1[i, p, q] = __\n",
    "\n",
    "        # Compute partial derivatives of the loss w.r.t weights and biases\n",
    "        for p in range(n1):\n",
    "            for q in range(n0):\n",
    "                Lw_1[p, q] = 0\n",
    "                for i in range(n2):\n",
    "                    Lw_1[p, q] += __\n",
    "\n",
    "        for p in range(n2):\n",
    "            for q in range(n1):\n",
    "                Lw_2[p, q] = 0\n",
    "                for i in range(n2):\n",
    "                    Lw_2[p, q] += __\n",
    "\n",
    "        for p in range(n2):\n",
    "            Lb_2[p] = 0\n",
    "            for i in range(n2):\n",
    "                Lb_2[p] += __\n",
    "\n",
    "        for p in range(n1):\n",
    "            Lb_1[p] = 0\n",
    "            for i in range(n2):\n",
    "                Lb_1[p] += __\n",
    "\n",
    "        # Gradient descent\n",
    "        raise NotImplementedError(\"Update W1, W2, b1, b2\")"
   ]
  },
  {
   "cell_type": "markdown",
   "metadata": {},
   "source": [
    "## Vizualization"
   ]
  },
  {
   "cell_type": "code",
   "execution_count": null,
   "metadata": {},
   "outputs": [],
   "source": [
    "num = 250\n",
    "x = np.linspace(X[:, 0].min(), X[:, 0].max(), num)\n",
    "y = np.linspace(X[:, 1].min(), X[:, 1].max(), num)\n",
    "XX, YY = np.meshgrid(x, y)\n",
    "points = np.c_[XX.ravel(), YY.ravel()]\n",
    "\n",
    "z1 = W1.T @ points.T + b1[:, np.newaxis]\n",
    "x1 = af1(z1)\n",
    "z2 = W2.T @ x1 + b2[:, np.newaxis]\n",
    "x2 = af2(z2)\n",
    "\n",
    "C = x2.reshape(num, num)\n",
    "\n",
    "plt.contourf(XX, YY, C, cmap=plt.cm.RdBu, alpha=.5)\n",
    "cm_bright = ListedColormap(['#FF0000', '#0000FF'])\n",
    "plt.scatter(*X.T, c=y_, cmap=cm_bright)"
   ]
  }
 ],
 "metadata": {
  "jupytext": {
   "cell_metadata_filter": "-all",
   "main_language": "python",
   "notebook_metadata_filter": "-all"
  },
  "kernelspec": {
   "display_name": "Python 3",
   "language": "python",
   "name": "python3"
  },
  "language_info": {
   "codemirror_mode": {
    "name": "ipython",
    "version": 3
   },
   "file_extension": ".py",
   "mimetype": "text/x-python",
   "name": "python",
   "nbconvert_exporter": "python",
   "pygments_lexer": "ipython3",
   "version": "3.7.3"
  }
 },
 "nbformat": 4,
 "nbformat_minor": 4
}
